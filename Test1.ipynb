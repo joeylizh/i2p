{
 "cells": [
  {
   "cell_type": "code",
   "execution_count": 9,
   "id": "177367b5-bff4-4d84-9cc1-59cb00fb2590",
   "metadata": {},
   "outputs": [
    {
     "ename": "AttributeError",
     "evalue": "'Employee' object has no attribute '__class'",
     "output_type": "error",
     "traceback": [
      "\u001b[0;31m---------------------------------------------------------------------------\u001b[0m",
      "\u001b[0;31mAttributeError\u001b[0m                            Traceback (most recent call last)",
      "\u001b[0;32m/tmp/ipykernel_157/1119725247.py\u001b[0m in \u001b[0;36m<module>\u001b[0;34m\u001b[0m\n\u001b[1;32m      2\u001b[0m     \u001b[0;32mpass\u001b[0m\u001b[0;34m\u001b[0m\u001b[0;34m\u001b[0m\u001b[0m\n\u001b[1;32m      3\u001b[0m \u001b[0mSteve\u001b[0m \u001b[0;34m=\u001b[0m \u001b[0mEmployee\u001b[0m\u001b[0;34m(\u001b[0m\u001b[0;34m)\u001b[0m\u001b[0;34m\u001b[0m\u001b[0;34m\u001b[0m\u001b[0m\n\u001b[0;32m----> 4\u001b[0;31m \u001b[0mSteve\u001b[0m \u001b[0;34m.\u001b[0m\u001b[0m__class\u001b[0m \u001b[0;34m.\u001b[0m\u001b[0m__name__\u001b[0m\u001b[0;34m\u001b[0m\u001b[0;34m\u001b[0m\u001b[0m\n\u001b[0m\u001b[1;32m      5\u001b[0m \u001b[0;31m# out: 'Employee'\u001b[0m\u001b[0;34m\u001b[0m\u001b[0;34m\u001b[0m\u001b[0;34m\u001b[0m\u001b[0m\n",
      "\u001b[0;31mAttributeError\u001b[0m: 'Employee' object has no attribute '__class'"
     ]
    }
   ],
   "source": [
    "class Employee:\n",
    "    pass \n",
    "Steve = Employee()\n",
    "Steve .__class .__name__\n",
    "# out: 'Employee'"
   ]
  },
  {
   "cell_type": "code",
   "execution_count": 10,
   "id": "a326b721-c71b-4aad-9d55-6d9f477b024d",
   "metadata": {},
   "outputs": [
    {
     "ename": "SyntaxError",
     "evalue": "EOL while scanning string literal (2536549774.py, line 15)",
     "output_type": "error",
     "traceback": [
      "\u001b[0;36m  File \u001b[0;32m\"/tmp/ipykernel_157/2536549774.py\"\u001b[0;36m, line \u001b[0;32m15\u001b[0m\n\u001b[0;31m    Steve's grade is: 3\u001b[0m\n\u001b[0m                       ^\u001b[0m\n\u001b[0;31mSyntaxError\u001b[0m\u001b[0;31m:\u001b[0m EOL while scanning string literal\n"
     ]
    }
   ],
   "source": [
    "class Employee:\n",
    "    \n",
    "    def __init__(self, wage, grade, years_worked):\n",
    "        self.wage = wage\n",
    "        self.grade = grade\n",
    "        self.exp = years_worked\n",
    "        \n",
    "        \n",
    "Steve = Employee(25000, 3, 2)\n",
    "\n",
    "print(\"Steve's wage is:\", Steve.wage)\n",
    "print(\"Steve's grade is:\", Steve.grade)\n",
    "print(\"Steve has worked for\", Steve.exp, \"years\")\n",
    "# out: Steve's wage is: 25000\n",
    "Steve's grade is: 3\n",
    "Steve has worked for 2 years"
   ]
  },
  {
   "cell_type": "code",
   "execution_count": null,
   "id": "fb9716a0-b4e8-4ada-ae84-6a9e0fe45879",
   "metadata": {},
   "outputs": [],
   "source": []
  }
 ],
 "metadata": {
  "kernelspec": {
   "display_name": "Python 3 (ipykernel)",
   "language": "python",
   "name": "python3"
  },
  "language_info": {
   "codemirror_mode": {
    "name": "ipython",
    "version": 3
   },
   "file_extension": ".py",
   "mimetype": "text/x-python",
   "name": "python",
   "nbconvert_exporter": "python",
   "pygments_lexer": "ipython3",
   "version": "3.9.6"
  }
 },
 "nbformat": 4,
 "nbformat_minor": 5
}
