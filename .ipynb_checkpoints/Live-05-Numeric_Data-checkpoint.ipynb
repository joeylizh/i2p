{
 "cells": [
  {
   "cell_type": "markdown",
   "metadata": {},
   "source": [
    "<div style=\"float:left\">\n",
    "    <h1 style=\"width:450px\">Live Coding 5: Pandas</h1>\n",
    "    <h2 style=\"width:450px\">Introducing Pandas!</h2>\n",
    "</div>\n",
    "<div style=\"float:right\"><img width=\"100\" src=\"https://github.com/jreades/i2p/raw/master/img/casa_logo.jpg\" /></div>"
   ]
  },
  {
   "cell_type": "markdown",
   "metadata": {},
   "source": [
    "<div style=\"border: dotted 1px rgb(156,121,26); padding: 10px; margin: 5px; background-color: rgb(255,236,184)\"><i>Note</i>: You should download this notebook from GitHub and then save it to your own copy of the repository. I'd suggest adding it (<tt>git add Live-...</tt>) right away and then committing (<tt>git commit -m \"Some message\"</tt>). Do this again at the end of the class and you'll have a record of everything you did, then you can <tt>git push</tt> it to GitHub.</div>"
   ]
  },
  {
   "cell_type": "markdown",
   "metadata": {},
   "source": [
    "## Task 1. Orientation\n",
    "\n",
    "Beyond what we provide below there are [numerous](http://lmgtfy.com/?q=introduction+to+pandas+python) useful introductions; [one of our favourites](http://www.gregreda.com/2013/10/26/intro-to-pandas-data-structures/) is from Greg Reda, and there are some [good videos](https://youtu.be/TSsSWuhBpmY) on [our YouTube channel](https://www.youtube.com/playlist?list=PLJ5Y5hxm-0W7rOOYBHf6KC6QNnWOi09kh). And of course, there’s [TONS of stuff](http://stackoverflow.com/questions/tagged/pandas) on StackOverflow. If you want an actual physical book, you might try [McKinney (2017)](http://shop.oreilly.com/product/0636920050896.do).\n",
    "\n",
    "However, one thing you will really want to bookmark is [the official documentation](http://pandas.pydata.org/pandas-docs/stable/) since you will undoubtedly need to refer to it fairly regularly. _Note_: this link is to the most recent release. Over time there will be updates published and you _may_ find that you no longer have the most up-to-date version. If you find that you are now using an older version of pandas and the methods have changed then you'll need to track down the _specific_ version of the documentation that you need from the [home page](http://pandas.pydata.org).\n",
    "\n",
    "You can always check what version you have installed like this:"
   ]
  },
  {
   "cell_type": "code",
   "execution_count": 1,
   "metadata": {},
   "outputs": [
    {
     "name": "stdout",
     "output_type": "stream",
     "text": [
      "1.1.2\n"
     ]
    }
   ],
   "source": [
    "import pandas as pd\n",
    "print(pd.__version__)"
   ]
  },
  {
   "cell_type": "markdown",
   "metadata": {},
   "source": [
    "<div style=\"border: dotted 1px rgb(156,121,26); padding: 10px; margin: 5px; background-color: rgb(255,236,184)\"><i>Note</i>: this approach isn't guaranteed to work with _every_ package, but it will work with most of them. Remember that variables and methods starting and ending with '<tt>__</tt>' are <b>private</b> and any interaction with them should be approached very, very carefully.</div>"
   ]
  },
  {
   "cell_type": "markdown",
   "metadata": {},
   "source": [
    "If pandas imported properly, you _could_ look for help using:"
   ]
  },
  {
   "cell_type": "code",
   "execution_count": null,
   "metadata": {
    "scrolled": true
   },
   "outputs": [],
   "source": [
    "help(pd.DataFrame)"
   ]
  },
  {
   "cell_type": "markdown",
   "metadata": {},
   "source": [
    "However, the help documentation for the DataFrame is not just a bit longer than anything we've seen before, it's massively longer! That's because pandas is much more sophisticated than anything we've looked at before. There's probably quite a lot of intimidating terminology in there too... Right from the start we get things like \"Two-dimensional size-mutable, potentially heterogeneous tabular data structure with labeled axes (rows and columns).\" "
   ]
  },
  {
   "cell_type": "markdown",
   "metadata": {},
   "source": [
    "## Task 2. The Series\n",
    "The official documentation for `Series` is [here](http://pandas.pydata.org/pandas-docs/stable/dsintro.html#series). But as [Greg Reda](http://www.gregreda.com/2013/10/26/intro-to-pandas-data-structures/) puts it so clearly; \n",
    "\n",
    "> _\"a Series is a one-dimensional object similar to an array, list, or column in a table. It will assign a labelled index to each item in the Series. By default, each item will receive an index label from 0 to N, where N is the length of the Series minus one.\"_ "
   ]
  },
  {
   "cell_type": "markdown",
   "metadata": {},
   "source": [
    "### Task 2.1: Working with a Series\n",
    "\n",
    "Although it's common to only encounter aSseries in the context of a Data Frame, we can actually create an work with them separately if we like. They use indexing in a very similar to what we have used in the past for lists:"
   ]
  },
  {
   "cell_type": "code",
   "execution_count": 18,
   "metadata": {},
   "outputs": [
    {
     "name": "stdout",
     "output_type": "stream",
     "text": [
      "0                  7\n",
      "1            Bristol\n",
      "2               3.14\n",
      "3              -1789\n",
      "4    Happy Birthday!\n",
      "dtype: object\n"
     ]
    }
   ],
   "source": [
    "srs = pd.Series([7, 'Bristol', 3.14, -1789, 'Happy Birthday!'])\n",
    "print(srs)"
   ]
  },
  {
   "cell_type": "markdown",
   "metadata": {},
   "source": [
    "Then, to get to item 1 from `s`:"
   ]
  },
  {
   "cell_type": "code",
   "execution_count": 19,
   "metadata": {},
   "outputs": [
    {
     "name": "stdout",
     "output_type": "stream",
     "text": [
      "Bristol\n",
      "<class 'str'>\n"
     ]
    }
   ],
   "source": [
    "print(srs[1])\n",
    "print(type(srs[1]))"
   ]
  },
  {
   "cell_type": "markdown",
   "metadata": {},
   "source": [
    "Looks pretty similar to how we would index (access) a list, right? **Except...** notice that printing out the series showed a number (0..4) _next_ to every element in the list; that should be a _clue_ that we're not using a normal list any more. That number is the Series *index*: this type of index is a lot more complicated than what we did when using indexes to access elements of a list, but they've used the same name because that describes its function."
   ]
  },
  {
   "cell_type": "markdown",
   "metadata": {},
   "source": [
    "### Task 2.2: Series and Value Operations\n",
    "\n",
    "One thing that can be quite confusing is that _only_ operations that return a singular value (e.g. `s[1]`) return a simple Python data type. Everything else returns a series:"
   ]
  },
  {
   "cell_type": "code",
   "execution_count": 20,
   "metadata": {},
   "outputs": [
    {
     "name": "stdout",
     "output_type": "stream",
     "text": [
      "3              -1789\n",
      "4    Happy Birthday!\n",
      "dtype: object\n",
      "<class 'pandas.core.series.Series'>\n"
     ]
    }
   ],
   "source": [
    "print(srs[3:5])\n",
    "print(type(srs[3:5]))"
   ]
  },
  {
   "cell_type": "markdown",
   "metadata": {},
   "source": [
    "If you want to get at the _values_ of the Series then you have to do it like this:"
   ]
  },
  {
   "cell_type": "code",
   "execution_count": 21,
   "metadata": {},
   "outputs": [
    {
     "name": "stdout",
     "output_type": "stream",
     "text": [
      "[-1789 'Happy Birthday!']\n",
      "<class 'numpy.ndarray'>\n",
      "\n",
      "[-1789, 'Happy Birthday!']\n",
      "<class 'list'>\n"
     ]
    }
   ],
   "source": [
    "print(srs.values[3:5])\n",
    "print(type(srs.values[3:5]))\n",
    "print()\n",
    "\n",
    "# To get an *actual* list not a numpy ndarray\n",
    "print(list(srs.values[3:5]))\n",
    "print(type(list(srs.values[3:5])))"
   ]
  },
  {
   "cell_type": "markdown",
   "metadata": {},
   "source": [
    "## 3. The Index\n",
    "\n",
    "By default, pandas uses a 0-based integer sequence for its indexes (*i.e.* if you don't tell it do anything else, your index will be the numbers 0..n). But one of neat things about pandas `Series` is that you can set the index to anything you like. "
   ]
  },
  {
   "cell_type": "markdown",
   "metadata": {},
   "source": [
    "### Task 3.1: Specifying an Index\n",
    "\n",
    "For example, let's imagine that you've calculated some summary statistics from a much larger data set and you want the name of the statistic to be the index value:"
   ]
  },
  {
   "cell_type": "code",
   "execution_count": 22,
   "metadata": {},
   "outputs": [
    {
     "name": "stdout",
     "output_type": "stream",
     "text": [
      "max     7.00\n",
      "min     1.00\n",
      "mean    3.23\n",
      "std     0.88\n",
      "dtype: float64\n"
     ]
    }
   ],
   "source": [
    "srs2 = pd.Series([7, 1, 3.23, 0.88],  index=['max', 'min', 'mean', 'std'])\n",
    "print(srs2)"
   ]
  },
  {
   "cell_type": "markdown",
   "metadata": {},
   "source": [
    "### Task 3.2: Accessing Items using the Index\n",
    "\n",
    "So *now* this looks a little like creating a dictionary with keys instead of a list with integer indexes since we can access values in the `Series` using the `index` we just specified, but it's still a _one-dimensional list_ (see definition above) since we only have one observation (_i.e._ data point) for each row.:"
   ]
  },
  {
   "cell_type": "code",
   "execution_count": 23,
   "metadata": {},
   "outputs": [
    {
     "name": "stdout",
     "output_type": "stream",
     "text": [
      "1.0\n"
     ]
    }
   ],
   "source": [
    "print(srs2['min'])"
   ]
  },
  {
   "cell_type": "markdown",
   "metadata": {},
   "source": [
    "But be aware of the fact that this is something quite different:"
   ]
  },
  {
   "cell_type": "code",
   "execution_count": 24,
   "metadata": {},
   "outputs": [
    {
     "name": "stdout",
     "output_type": "stream",
     "text": [
      "0.88\n"
     ]
    }
   ],
   "source": [
    "print(srs2.min())"
   ]
  },
  {
   "cell_type": "markdown",
   "metadata": {},
   "source": [
    "The difference between these outputs is because we used two different ways to access the contents of the `Series`:\n",
    "1. `mySummary['min']` uses the _index_ to find the value corresponding to that index entry; \n",
    "2. But `mySummary.min()` is a [method](http://pandas.pydata.org/pandas-docs/stable/api.html#computations-descriptive-stats) that searchers for the minimum _value_ in the series. \n",
    "\n",
    "Since that is pretty confusing, I'd recommend trying to _avoid_ using words like these as part of your index if you possibly can -- fortunately, that shouldn't happen too often: the only time you'll encounter it as a *normal* part of *using* pandas is when you summarise a dataframe! \n",
    "\n",
    "<div style=\"border: dotted 1px green; padding: 10px; margin: 5px; background-color: rgb(249,255,249);\"><i>Hint</i>: The difference between an **index** value and a **data** value is crucial, so make sure you understand how these two lines of code differ and why their output is different -- ask if you’re not sure.</div>"
   ]
  },
  {
   "cell_type": "markdown",
   "metadata": {},
   "source": [
    "### Task 3.3: Bitwise Indexing\n",
    "\n",
    "We can also use a _boolean_ or _bitwise index_ to select or filter particular elements of the `Series` that meet certain conditions using logical operators like `==` or `>` (so this is like a conditional statement). For example, let's create a new `Series`:"
   ]
  },
  {
   "cell_type": "code",
   "execution_count": 25,
   "metadata": {},
   "outputs": [],
   "source": [
    "srs3 = pd.Series([100, 200, 300, 400], index = ['one', 'two', 'three', 'four']) "
   ]
  },
  {
   "cell_type": "markdown",
   "metadata": {},
   "source": [
    "We can then ask pandas to find all elements of the `Series` with values greater than 250 and this will be returned as a bitwise boolean index (**hint**: look at the `dtype`):"
   ]
  },
  {
   "cell_type": "code",
   "execution_count": 26,
   "metadata": {},
   "outputs": [
    {
     "data": {
      "text/plain": [
       "one      False\n",
       "two      False\n",
       "three     True\n",
       "four      True\n",
       "dtype: bool"
      ]
     },
     "execution_count": 26,
     "metadata": {},
     "output_type": "execute_result"
    }
   ],
   "source": [
    "srs3 > 250"
   ]
  },
  {
   "cell_type": "markdown",
   "metadata": {},
   "source": [
    "***Think about it***: thats's already useful since we didn't have to write a `for` loop in order to find every element of `mySeries` that was greater than 250! But we can use that boolean index to retrieve *only* those values of the series:"
   ]
  },
  {
   "cell_type": "code",
   "execution_count": 27,
   "metadata": {},
   "outputs": [
    {
     "data": {
      "text/plain": [
       "three    300\n",
       "four     400\n",
       "dtype: int64"
      ]
     },
     "execution_count": 27,
     "metadata": {},
     "output_type": "execute_result"
    }
   ],
   "source": [
    "srs3[srs3 > 250]"
   ]
  },
  {
   "cell_type": "markdown",
   "metadata": {},
   "source": [
    "Let's step through this to make sure it's clear:\n",
    "1. We use a conditional test `srs3 > 250` which looks for *all* elements of `srs3` which are greater than 250; \n",
    "2. This produces a Boolean Series of `True`/`False` values that is the same length as the original series\n",
    "3. We use this to quickly select all of the elements in `srs3` whose index value is `True`. \n",
    "\n",
    "Think about it!"
   ]
  },
  {
   "cell_type": "markdown",
   "metadata": {},
   "source": [
    "### Task 3.4: iloc\n",
    "\n",
    "Let's try to bring a slightly more concrete example to this in order to better-understand how the index can be used to select data by index-value. The easiest one to understand (if you're comfortable thinking about pandas as a dictionary-of-lists) is `iloc` which focuses on _integer location_ (thus: `iloc`):"
   ]
  },
  {
   "cell_type": "code",
   "execution_count": 30,
   "metadata": {},
   "outputs": [
    {
     "name": "stdout",
     "output_type": "stream",
     "text": [
      "Liverpool    7063197\n",
      "Bristol      6708480\n",
      "Reading      6703134\n",
      "dtype: int64\n",
      "\n",
      "Reading    6703134\n",
      "Glasgow    7538620\n",
      "dtype: int64\n"
     ]
    }
   ],
   "source": [
    "myEastings  = pd.Series([7063197, 6708480, 6703134, 7538620], \n",
    "                        index = ['Liverpool', 'Bristol', 'Reading', 'Glasgow'])\n",
    "\n",
    "print(myEastings.iloc[0:3])\n",
    "print()\n",
    "print(myEastings.iloc[-2:])"
   ]
  },
  {
   "cell_type": "markdown",
   "metadata": {},
   "source": [
    "So here we see how the index can be used for list-like operations using a syntax that matches that of Python's lists!"
   ]
  },
  {
   "cell_type": "markdown",
   "metadata": {},
   "source": [
    "### Task 3.4: loc\n",
    "\n",
    "Continuing with this same series, let's turn now to `loc` which uses _labels_ instead of _integers_ and so looks a bit more like a dictionary:"
   ]
  },
  {
   "cell_type": "code",
   "execution_count": 32,
   "metadata": {},
   "outputs": [
    {
     "name": "stdout",
     "output_type": "stream",
     "text": [
      "Liverpool    7063197\n",
      "Bristol      6708480\n",
      "Reading      6703134\n",
      "dtype: int64\n",
      "\n",
      "Bristol    6708480\n",
      "Reading    6703134\n",
      "Glasgow    7538620\n",
      "dtype: int64\n"
     ]
    }
   ],
   "source": [
    "myEastings  = pd.Series([7063197, 6708480, 6703134, 7538620], \n",
    "                        index = ['Liverpool', 'Bristol', 'Reading', 'Glasgow'])\n",
    "\n",
    "print(myEastings.loc['Liverpool':'Reading'])\n",
    "print()\n",
    "print(myEastings.loc['Bristol':])"
   ]
  },
  {
   "cell_type": "markdown",
   "metadata": {},
   "source": [
    "So that's a bit of a hybrid: it's not _really_ a dictionary (because you can't slice dictionaries), but you can use labels to select ranges of data from the series."
   ]
  },
  {
   "cell_type": "markdown",
   "metadata": {},
   "source": [
    "## 4. The Data Frames"
   ]
  },
  {
   "cell_type": "markdown",
   "metadata": {},
   "source": [
    "Clearly, we usually we have more than just a few observations in a single column of data (i.e. a one-dimensional data set). Let's step this up slowly by working with two-dimensional data in pandas; that means we now need to use the data structure called a `DataFrame`. We saw the help documentation for this above, but hopefully the rest of this notebook will be a little more comprehensible... "
   ]
  },
  {
   "cell_type": "markdown",
   "metadata": {},
   "source": [
    "Official documentation for DataFrame is [here](http://pandas.pydata.org/pandas-docs/stable/dsintro.html#dataframe). But again, [Greg Reda](http://www.gregreda.com/2013/10/26/intro-to-pandas-data-structures/) puts it a little more intuitively:\n",
    "\n",
    "> _“A DataFrame is a tabular data structure comprised of rows and columns, akin to a spreadsheet, database table ... **You can also think of a `DataFrame` as a group of `Series` objects that share an index (the column names).**”_ \n",
    "\n",
    "Or, in terms of what we've been doing: a `DataFrame` can be thought of as a dictionary-of-lists that share the same index. "
   ]
  },
  {
   "cell_type": "markdown",
   "metadata": {},
   "source": [
    "### Task 4.1: Creating a Data Frame from Scratch\n",
    "\n",
    "Indeed, we can actually create a Data Frame from the dictionary-of-lists we saw in Weeks 3 and 4:"
   ]
  },
  {
   "cell_type": "code",
   "execution_count": 71,
   "metadata": {},
   "outputs": [
    {
     "name": "stdout",
     "output_type": "stream",
     "text": [
      "<class 'pandas.core.frame.DataFrame'>\n",
      "\n",
      "Data frame:\n",
      "   id                Name  Rank  Longitude  Latitude  Population\n",
      "0   0      Greater London     1     -0.128    51.507     9787426\n",
      "1   1  Greater Manchester     2     -2.245    53.479     2705000\n",
      "2   2          Birmingham     3     -1.903    52.480     1141816\n",
      "3   3           Edinburgh     4     -3.189    55.953      901455\n",
      "4   4           Inverness     5     -4.223    57.478       70000\n",
      "5   5             Lerwick     6     -1.145    60.155        6958\n",
      "\n",
      "Description:\n",
      "             id      Rank  Longitude   Latitude    Population\n",
      "count  6.000000  6.000000   6.000000   6.000000  6.000000e+00\n",
      "mean   2.500000  3.500000  -2.138833  55.175333  2.435442e+06\n",
      "std    1.870829  1.870829   1.452215   3.295547  3.732124e+06\n",
      "min    0.000000  1.000000  -4.223000  51.507000  6.958000e+03\n",
      "25%    1.250000  2.250000  -2.953000  52.729750  2.778638e+05\n",
      "50%    2.500000  3.500000  -2.074000  54.716000  1.021636e+06\n",
      "75%    3.750000  4.750000  -1.334500  57.096750  2.314204e+06\n",
      "max    5.000000  6.000000  -0.128000  60.155000  9.787426e+06\n",
      "\n",
      "Information:\n",
      "<class 'pandas.core.frame.DataFrame'>\n",
      "RangeIndex: 6 entries, 0 to 5\n",
      "Data columns (total 6 columns):\n",
      " #   Column      Non-Null Count  Dtype  \n",
      "---  ------      --------------  -----  \n",
      " 0   id          6 non-null      int64  \n",
      " 1   Name        6 non-null      object \n",
      " 2   Rank        6 non-null      int64  \n",
      " 3   Longitude   6 non-null      float64\n",
      " 4   Latitude    6 non-null      float64\n",
      " 5   Population  6 non-null      int64  \n",
      "dtypes: float64(2), int64(3), object(1)\n",
      "memory usage: 416.0+ bytes\n",
      "None\n"
     ]
    }
   ],
   "source": [
    "myData = {\n",
    "    'id'         : [0, 1, 2, 3, 4, 5],\n",
    "    'Name'       : ['Greater London', 'Greater Manchester', 'Birmingham','Edinburgh','Inverness','Lerwick'],\n",
    "    'Rank'       : [1, 2, 3, 4, 5, 6],\n",
    "    'Longitude'  : [-0.128, -2.245, -1.903, -3.189, -4.223, -1.145],\n",
    "    'Latitude'   : [51.507, 53.479, 52.480, 55.953, 57.478, 60.155],\n",
    "    'Population' : [9787426, 2705000, 1141816, 901455, 70000, 6958],\n",
    "}\n",
    "\n",
    "df = pd.DataFrame(myData)\n",
    "\n",
    "print(type(df))\n",
    "print()\n",
    "\n",
    "print(\"Data frame:\")\n",
    "print(df)\n",
    "print()\n",
    "\n",
    "print(\"Description:\")\n",
    "print(df.describe())\n",
    "print()\n",
    "\n",
    "print(\"Information:\")\n",
    "print(df.info())"
   ]
  },
  {
   "cell_type": "markdown",
   "metadata": {},
   "source": [
    "### Task 4.2: Changing the Index\n",
    "\n",
    "Notice that when we print `df` there are two sets of columns with the numbers 0..5: one of these is the `id` column that we created in `myData`. The other is the index that pandas created automatically. We can change this..."
   ]
  },
  {
   "cell_type": "code",
   "execution_count": 35,
   "metadata": {},
   "outputs": [
    {
     "data": {
      "text/html": [
       "<div>\n",
       "<style scoped>\n",
       "    .dataframe tbody tr th:only-of-type {\n",
       "        vertical-align: middle;\n",
       "    }\n",
       "\n",
       "    .dataframe tbody tr th {\n",
       "        vertical-align: top;\n",
       "    }\n",
       "\n",
       "    .dataframe thead th {\n",
       "        text-align: right;\n",
       "    }\n",
       "</style>\n",
       "<table border=\"1\" class=\"dataframe\">\n",
       "  <thead>\n",
       "    <tr style=\"text-align: right;\">\n",
       "      <th></th>\n",
       "      <th>Name</th>\n",
       "      <th>Rank</th>\n",
       "      <th>Longitude</th>\n",
       "      <th>Latitude</th>\n",
       "      <th>Population</th>\n",
       "    </tr>\n",
       "    <tr>\n",
       "      <th>id</th>\n",
       "      <th></th>\n",
       "      <th></th>\n",
       "      <th></th>\n",
       "      <th></th>\n",
       "      <th></th>\n",
       "    </tr>\n",
       "  </thead>\n",
       "  <tbody>\n",
       "    <tr>\n",
       "      <th>0</th>\n",
       "      <td>Greater London</td>\n",
       "      <td>1</td>\n",
       "      <td>-0.128</td>\n",
       "      <td>51.507</td>\n",
       "      <td>9787426</td>\n",
       "    </tr>\n",
       "    <tr>\n",
       "      <th>1</th>\n",
       "      <td>Greater Manchester</td>\n",
       "      <td>2</td>\n",
       "      <td>-2.245</td>\n",
       "      <td>53.479</td>\n",
       "      <td>2705000</td>\n",
       "    </tr>\n",
       "    <tr>\n",
       "      <th>2</th>\n",
       "      <td>Birmingham</td>\n",
       "      <td>3</td>\n",
       "      <td>-1.903</td>\n",
       "      <td>52.480</td>\n",
       "      <td>1141816</td>\n",
       "    </tr>\n",
       "    <tr>\n",
       "      <th>3</th>\n",
       "      <td>Edinburgh</td>\n",
       "      <td>4</td>\n",
       "      <td>-3.189</td>\n",
       "      <td>55.953</td>\n",
       "      <td>901455</td>\n",
       "    </tr>\n",
       "    <tr>\n",
       "      <th>4</th>\n",
       "      <td>Inverness</td>\n",
       "      <td>5</td>\n",
       "      <td>-4.223</td>\n",
       "      <td>57.478</td>\n",
       "      <td>70000</td>\n",
       "    </tr>\n",
       "    <tr>\n",
       "      <th>5</th>\n",
       "      <td>Lerwick</td>\n",
       "      <td>6</td>\n",
       "      <td>-1.145</td>\n",
       "      <td>60.155</td>\n",
       "      <td>6958</td>\n",
       "    </tr>\n",
       "  </tbody>\n",
       "</table>\n",
       "</div>"
      ],
      "text/plain": [
       "                  Name  Rank  Longitude  Latitude  Population\n",
       "id                                                           \n",
       "0       Greater London     1     -0.128    51.507     9787426\n",
       "1   Greater Manchester     2     -2.245    53.479     2705000\n",
       "2           Birmingham     3     -1.903    52.480     1141816\n",
       "3            Edinburgh     4     -3.189    55.953      901455\n",
       "4            Inverness     5     -4.223    57.478       70000\n",
       "5              Lerwick     6     -1.145    60.155        6958"
      ]
     },
     "execution_count": 35,
     "metadata": {},
     "output_type": "execute_result"
    }
   ],
   "source": [
    "df.set_index('id')"
   ]
  },
  {
   "cell_type": "markdown",
   "metadata": {},
   "source": [
    "<div style=\"border: dotted 1px red; padding: 10px; margin: 5px; background-color: rgb(255,249,249);\"><i>Danger</i>: This looks like exactly what we want, but we <i>didn't</i> capture the result! So we set the index and a new data frame was returned, but we didn't save the result to a new variable or overwrite the old one. <b>This is the most common mistake I've seen new users of pandas make: they have the right command but aren't capturing the output.</b></div>"
   ]
  },
  {
   "cell_type": "code",
   "execution_count": 36,
   "metadata": {},
   "outputs": [],
   "source": [
    "print(\"Notice that id hasn't been set as a column:\")\n",
    "df.info()\n",
    "\n",
    "print(\"Notice that with inplace it is now set:\")\n",
    "df.set_index('id', inplace=True)\n",
    "df.info()\n",
    "\n",
    "# You could also do this using: df = df.set_index('id')"
   ]
  },
  {
   "cell_type": "markdown",
   "metadata": {},
   "source": [
    "\n",
    "### Task 4.3: iloc\n",
    "\n",
    "Integer locations can be used with data frames as well as individual columns. Note that the index is _always_ returned, even if you don't ask for it."
   ]
  },
  {
   "cell_type": "code",
   "execution_count": 38,
   "metadata": {},
   "outputs": [
    {
     "data": {
      "text/html": [
       "<div>\n",
       "<style scoped>\n",
       "    .dataframe tbody tr th:only-of-type {\n",
       "        vertical-align: middle;\n",
       "    }\n",
       "\n",
       "    .dataframe tbody tr th {\n",
       "        vertical-align: top;\n",
       "    }\n",
       "\n",
       "    .dataframe thead th {\n",
       "        text-align: right;\n",
       "    }\n",
       "</style>\n",
       "<table border=\"1\" class=\"dataframe\">\n",
       "  <thead>\n",
       "    <tr style=\"text-align: right;\">\n",
       "      <th></th>\n",
       "      <th>Name</th>\n",
       "      <th>Rank</th>\n",
       "      <th>Longitude</th>\n",
       "    </tr>\n",
       "    <tr>\n",
       "      <th>id</th>\n",
       "      <th></th>\n",
       "      <th></th>\n",
       "      <th></th>\n",
       "    </tr>\n",
       "  </thead>\n",
       "  <tbody>\n",
       "    <tr>\n",
       "      <th>2</th>\n",
       "      <td>Birmingham</td>\n",
       "      <td>3</td>\n",
       "      <td>-1.903</td>\n",
       "    </tr>\n",
       "    <tr>\n",
       "      <th>3</th>\n",
       "      <td>Edinburgh</td>\n",
       "      <td>4</td>\n",
       "      <td>-3.189</td>\n",
       "    </tr>\n",
       "  </tbody>\n",
       "</table>\n",
       "</div>"
      ],
      "text/plain": [
       "          Name  Rank  Longitude\n",
       "id                             \n",
       "2   Birmingham     3     -1.903\n",
       "3    Edinburgh     4     -3.189"
      ]
     },
     "execution_count": 38,
     "metadata": {},
     "output_type": "execute_result"
    }
   ],
   "source": [
    "df.iloc[2:4,0:3]"
   ]
  },
  {
   "cell_type": "markdown",
   "metadata": {},
   "source": [
    "### Task 4.4: loc\n",
    "\n",
    "And this might help to make the behaviour of `loc` a little more obvious: it's an _inclusive_ selection of the index **values** 2..4 and Longitude..Population."
   ]
  },
  {
   "cell_type": "code",
   "execution_count": 39,
   "metadata": {},
   "outputs": [
    {
     "data": {
      "text/html": [
       "<div>\n",
       "<style scoped>\n",
       "    .dataframe tbody tr th:only-of-type {\n",
       "        vertical-align: middle;\n",
       "    }\n",
       "\n",
       "    .dataframe tbody tr th {\n",
       "        vertical-align: top;\n",
       "    }\n",
       "\n",
       "    .dataframe thead th {\n",
       "        text-align: right;\n",
       "    }\n",
       "</style>\n",
       "<table border=\"1\" class=\"dataframe\">\n",
       "  <thead>\n",
       "    <tr style=\"text-align: right;\">\n",
       "      <th></th>\n",
       "      <th>Longitude</th>\n",
       "      <th>Latitude</th>\n",
       "      <th>Population</th>\n",
       "    </tr>\n",
       "    <tr>\n",
       "      <th>id</th>\n",
       "      <th></th>\n",
       "      <th></th>\n",
       "      <th></th>\n",
       "    </tr>\n",
       "  </thead>\n",
       "  <tbody>\n",
       "    <tr>\n",
       "      <th>2</th>\n",
       "      <td>-1.903</td>\n",
       "      <td>52.480</td>\n",
       "      <td>1141816</td>\n",
       "    </tr>\n",
       "    <tr>\n",
       "      <th>3</th>\n",
       "      <td>-3.189</td>\n",
       "      <td>55.953</td>\n",
       "      <td>901455</td>\n",
       "    </tr>\n",
       "    <tr>\n",
       "      <th>4</th>\n",
       "      <td>-4.223</td>\n",
       "      <td>57.478</td>\n",
       "      <td>70000</td>\n",
       "    </tr>\n",
       "  </tbody>\n",
       "</table>\n",
       "</div>"
      ],
      "text/plain": [
       "    Longitude  Latitude  Population\n",
       "id                                 \n",
       "2      -1.903    52.480     1141816\n",
       "3      -3.189    55.953      901455\n",
       "4      -4.223    57.478       70000"
      ]
     },
     "execution_count": 39,
     "metadata": {},
     "output_type": "execute_result"
    }
   ],
   "source": [
    "df.loc[2:4,'Longitude':'Population']"
   ]
  },
  {
   "cell_type": "markdown",
   "metadata": {},
   "source": [
    "### Task 4.5: Selecting Rows\n",
    "\n",
    "We can also use conditions to select rows or columns:"
   ]
  },
  {
   "cell_type": "code",
   "execution_count": 40,
   "metadata": {},
   "outputs": [
    {
     "data": {
      "text/html": [
       "<div>\n",
       "<style scoped>\n",
       "    .dataframe tbody tr th:only-of-type {\n",
       "        vertical-align: middle;\n",
       "    }\n",
       "\n",
       "    .dataframe tbody tr th {\n",
       "        vertical-align: top;\n",
       "    }\n",
       "\n",
       "    .dataframe thead th {\n",
       "        text-align: right;\n",
       "    }\n",
       "</style>\n",
       "<table border=\"1\" class=\"dataframe\">\n",
       "  <thead>\n",
       "    <tr style=\"text-align: right;\">\n",
       "      <th></th>\n",
       "      <th>Name</th>\n",
       "      <th>Rank</th>\n",
       "      <th>Longitude</th>\n",
       "      <th>Latitude</th>\n",
       "      <th>Population</th>\n",
       "    </tr>\n",
       "    <tr>\n",
       "      <th>id</th>\n",
       "      <th></th>\n",
       "      <th></th>\n",
       "      <th></th>\n",
       "      <th></th>\n",
       "      <th></th>\n",
       "    </tr>\n",
       "  </thead>\n",
       "  <tbody>\n",
       "    <tr>\n",
       "      <th>0</th>\n",
       "      <td>Greater London</td>\n",
       "      <td>1</td>\n",
       "      <td>-0.128</td>\n",
       "      <td>51.507</td>\n",
       "      <td>9787426</td>\n",
       "    </tr>\n",
       "    <tr>\n",
       "      <th>1</th>\n",
       "      <td>Greater Manchester</td>\n",
       "      <td>2</td>\n",
       "      <td>-2.245</td>\n",
       "      <td>53.479</td>\n",
       "      <td>2705000</td>\n",
       "    </tr>\n",
       "    <tr>\n",
       "      <th>2</th>\n",
       "      <td>Birmingham</td>\n",
       "      <td>3</td>\n",
       "      <td>-1.903</td>\n",
       "      <td>52.480</td>\n",
       "      <td>1141816</td>\n",
       "    </tr>\n",
       "  </tbody>\n",
       "</table>\n",
       "</div>"
      ],
      "text/plain": [
       "                  Name  Rank  Longitude  Latitude  Population\n",
       "id                                                           \n",
       "0       Greater London     1     -0.128    51.507     9787426\n",
       "1   Greater Manchester     2     -2.245    53.479     2705000\n",
       "2           Birmingham     3     -1.903    52.480     1141816"
      ]
     },
     "execution_count": 40,
     "metadata": {},
     "output_type": "execute_result"
    }
   ],
   "source": [
    "df[df.Rank < 4]"
   ]
  },
  {
   "cell_type": "code",
   "execution_count": 44,
   "metadata": {},
   "outputs": [
    {
     "data": {
      "text/html": [
       "<div>\n",
       "<style scoped>\n",
       "    .dataframe tbody tr th:only-of-type {\n",
       "        vertical-align: middle;\n",
       "    }\n",
       "\n",
       "    .dataframe tbody tr th {\n",
       "        vertical-align: top;\n",
       "    }\n",
       "\n",
       "    .dataframe thead th {\n",
       "        text-align: right;\n",
       "    }\n",
       "</style>\n",
       "<table border=\"1\" class=\"dataframe\">\n",
       "  <thead>\n",
       "    <tr style=\"text-align: right;\">\n",
       "      <th></th>\n",
       "      <th>Name</th>\n",
       "      <th>Rank</th>\n",
       "      <th>Longitude</th>\n",
       "      <th>Latitude</th>\n",
       "      <th>Population</th>\n",
       "    </tr>\n",
       "    <tr>\n",
       "      <th>id</th>\n",
       "      <th></th>\n",
       "      <th></th>\n",
       "      <th></th>\n",
       "      <th></th>\n",
       "      <th></th>\n",
       "    </tr>\n",
       "  </thead>\n",
       "  <tbody>\n",
       "    <tr>\n",
       "      <th>5</th>\n",
       "      <td>Lerwick</td>\n",
       "      <td>6</td>\n",
       "      <td>-1.145</td>\n",
       "      <td>60.155</td>\n",
       "      <td>6958</td>\n",
       "    </tr>\n",
       "  </tbody>\n",
       "</table>\n",
       "</div>"
      ],
      "text/plain": [
       "       Name  Rank  Longitude  Latitude  Population\n",
       "id                                                \n",
       "5   Lerwick     6     -1.145    60.155        6958"
      ]
     },
     "execution_count": 44,
     "metadata": {},
     "output_type": "execute_result"
    }
   ],
   "source": [
    "df[(df.Longitude > -1.5) & (df.Latitude > 55.0)]"
   ]
  },
  {
   "cell_type": "markdown",
   "metadata": {},
   "source": [
    "We can understand how that worked by breaking it down into parts:"
   ]
  },
  {
   "cell_type": "code",
   "execution_count": 46,
   "metadata": {},
   "outputs": [
    {
     "data": {
      "text/plain": [
       "id\n",
       "0     True\n",
       "1    False\n",
       "2    False\n",
       "3    False\n",
       "4    False\n",
       "5     True\n",
       "Name: Longitude, dtype: bool"
      ]
     },
     "execution_count": 46,
     "metadata": {},
     "output_type": "execute_result"
    }
   ],
   "source": [
    "df.Longitude > -1.5"
   ]
  },
  {
   "cell_type": "code",
   "execution_count": 45,
   "metadata": {},
   "outputs": [
    {
     "data": {
      "text/plain": [
       "id\n",
       "0    False\n",
       "1    False\n",
       "2    False\n",
       "3     True\n",
       "4     True\n",
       "5     True\n",
       "Name: Latitude, dtype: bool"
      ]
     },
     "execution_count": 45,
     "metadata": {},
     "output_type": "execute_result"
    }
   ],
   "source": [
    "df.Latitude > 55.0"
   ]
  },
  {
   "cell_type": "markdown",
   "metadata": {},
   "source": [
    "These then combine as follows:"
   ]
  },
  {
   "cell_type": "code",
   "execution_count": 48,
   "metadata": {},
   "outputs": [
    {
     "data": {
      "text/plain": [
       "id\n",
       "0    False\n",
       "1    False\n",
       "2    False\n",
       "3    False\n",
       "4    False\n",
       "5     True\n",
       "dtype: bool"
      ]
     },
     "execution_count": 48,
     "metadata": {},
     "output_type": "execute_result"
    }
   ],
   "source": [
    "(df.Longitude > -1.5) & (df.Latitude > 55.0)"
   ]
  },
  {
   "cell_type": "markdown",
   "metadata": {},
   "source": [
    "But note that this will not work because Python doesn't know how to combine the two data series directly:\n",
    "```python\n",
    "df.Longitude > -1.5 & df.Latitude > 55.0 # Will throw an exception\n",
    "```\n",
    "_Note:_ I'm not actually 100% sure why throwing parenthese around the series results allows the bit-wise operator to work!"
   ]
  },
  {
   "cell_type": "markdown",
   "metadata": {},
   "source": [
    "### Task 4.6: Selecting Rows & Columns\n",
    "\n",
    "Finally, let's look at how you can select both rows and columns as part of this process."
   ]
  },
  {
   "cell_type": "code",
   "execution_count": 55,
   "metadata": {},
   "outputs": [
    {
     "name": "stdout",
     "output_type": "stream",
     "text": [
      "Greater Manchester\n",
      "<class 'str'>\n"
     ]
    }
   ],
   "source": [
    "print(df.iloc[1,0])\n",
    "print(type(df.iloc[1,0]))"
   ]
  },
  {
   "cell_type": "code",
   "execution_count": 57,
   "metadata": {},
   "outputs": [
    {
     "name": "stdout",
     "output_type": "stream",
     "text": [
      "-3.189\n",
      "<class 'numpy.float64'>\n"
     ]
    }
   ],
   "source": [
    "print(df.loc[3,'Longitude'])\n",
    "print(type(df.loc[3,'Longitude']))"
   ]
  },
  {
   "cell_type": "markdown",
   "metadata": {},
   "source": [
    "Notice the difference in output between the next two lines of code:"
   ]
  },
  {
   "cell_type": "code",
   "execution_count": 60,
   "metadata": {},
   "outputs": [
    {
     "name": "stdout",
     "output_type": "stream",
     "text": [
      "    Longitude  Latitude\n",
      "id                     \n",
      "0      -0.128    51.507\n",
      "1      -2.245    53.479\n",
      "2      -1.903    52.480\n",
      "3      -3.189    55.953\n",
      "4      -4.223    57.478\n",
      "5      -1.145    60.155\n"
     ]
    }
   ],
   "source": [
    "print(df[['Longitude','Latitude']])"
   ]
  },
  {
   "cell_type": "code",
   "execution_count": 59,
   "metadata": {},
   "outputs": [
    {
     "data": {
      "text/html": [
       "<div>\n",
       "<style scoped>\n",
       "    .dataframe tbody tr th:only-of-type {\n",
       "        vertical-align: middle;\n",
       "    }\n",
       "\n",
       "    .dataframe tbody tr th {\n",
       "        vertical-align: top;\n",
       "    }\n",
       "\n",
       "    .dataframe thead th {\n",
       "        text-align: right;\n",
       "    }\n",
       "</style>\n",
       "<table border=\"1\" class=\"dataframe\">\n",
       "  <thead>\n",
       "    <tr style=\"text-align: right;\">\n",
       "      <th></th>\n",
       "      <th>Longitude</th>\n",
       "      <th>Latitude</th>\n",
       "    </tr>\n",
       "    <tr>\n",
       "      <th>id</th>\n",
       "      <th></th>\n",
       "      <th></th>\n",
       "    </tr>\n",
       "  </thead>\n",
       "  <tbody>\n",
       "    <tr>\n",
       "      <th>0</th>\n",
       "      <td>-0.128</td>\n",
       "      <td>51.507</td>\n",
       "    </tr>\n",
       "    <tr>\n",
       "      <th>1</th>\n",
       "      <td>-2.245</td>\n",
       "      <td>53.479</td>\n",
       "    </tr>\n",
       "    <tr>\n",
       "      <th>2</th>\n",
       "      <td>-1.903</td>\n",
       "      <td>52.480</td>\n",
       "    </tr>\n",
       "    <tr>\n",
       "      <th>3</th>\n",
       "      <td>-3.189</td>\n",
       "      <td>55.953</td>\n",
       "    </tr>\n",
       "    <tr>\n",
       "      <th>4</th>\n",
       "      <td>-4.223</td>\n",
       "      <td>57.478</td>\n",
       "    </tr>\n",
       "    <tr>\n",
       "      <th>5</th>\n",
       "      <td>-1.145</td>\n",
       "      <td>60.155</td>\n",
       "    </tr>\n",
       "  </tbody>\n",
       "</table>\n",
       "</div>"
      ],
      "text/plain": [
       "    Longitude  Latitude\n",
       "id                     \n",
       "0      -0.128    51.507\n",
       "1      -2.245    53.479\n",
       "2      -1.903    52.480\n",
       "3      -3.189    55.953\n",
       "4      -4.223    57.478\n",
       "5      -1.145    60.155"
      ]
     },
     "execution_count": 59,
     "metadata": {},
     "output_type": "execute_result"
    }
   ],
   "source": [
    "df[['Longitude','Latitude']]"
   ]
  },
  {
   "cell_type": "markdown",
   "metadata": {},
   "source": [
    "And, finally:"
   ]
  },
  {
   "cell_type": "code",
   "execution_count": 62,
   "metadata": {},
   "outputs": [
    {
     "data": {
      "text/html": [
       "<div>\n",
       "<style scoped>\n",
       "    .dataframe tbody tr th:only-of-type {\n",
       "        vertical-align: middle;\n",
       "    }\n",
       "\n",
       "    .dataframe tbody tr th {\n",
       "        vertical-align: top;\n",
       "    }\n",
       "\n",
       "    .dataframe thead th {\n",
       "        text-align: right;\n",
       "    }\n",
       "</style>\n",
       "<table border=\"1\" class=\"dataframe\">\n",
       "  <thead>\n",
       "    <tr style=\"text-align: right;\">\n",
       "      <th></th>\n",
       "      <th>Longitude</th>\n",
       "      <th>Latitude</th>\n",
       "    </tr>\n",
       "    <tr>\n",
       "      <th>id</th>\n",
       "      <th></th>\n",
       "      <th></th>\n",
       "    </tr>\n",
       "  </thead>\n",
       "  <tbody>\n",
       "    <tr>\n",
       "      <th>0</th>\n",
       "      <td>-0.128</td>\n",
       "      <td>51.507</td>\n",
       "    </tr>\n",
       "  </tbody>\n",
       "</table>\n",
       "</div>"
      ],
      "text/plain": [
       "    Longitude  Latitude\n",
       "id                     \n",
       "0      -0.128    51.507"
      ]
     },
     "execution_count": 62,
     "metadata": {},
     "output_type": "execute_result"
    }
   ],
   "source": [
    "df[df.Name=='Greater London'][['Longitude','Latitude']]"
   ]
  },
  {
   "cell_type": "code",
   "execution_count": 76,
   "metadata": {},
   "outputs": [
    {
     "name": "stdout",
     "output_type": "stream",
     "text": [
      "<class 'pandas.core.frame.DataFrame'>\n"
     ]
    }
   ],
   "source": [
    "print(type(df[df.Name=='Greater London'][['Longitude','Latitude']]))"
   ]
  },
  {
   "cell_type": "markdown",
   "metadata": {},
   "source": [
    "But notice that even _that_ returns a _data frame_! If we want to turn this into something more like a Python entity then we need to use the `values` attribute together with the row selector (_i.e._ row 0 is the first row of the data frame):"
   ]
  },
  {
   "cell_type": "code",
   "execution_count": 75,
   "metadata": {},
   "outputs": [
    {
     "data": {
      "text/plain": [
       "[-0.128, 51.507]"
      ]
     },
     "execution_count": 75,
     "metadata": {},
     "output_type": "execute_result"
    }
   ],
   "source": [
    "list(df[df.Name=='Greater London'][['Longitude','Latitude']].values[0])"
   ]
  },
  {
   "cell_type": "markdown",
   "metadata": {},
   "source": [
    "<div style=\"border: dotted 1px rgb(156,121,26); padding: 10px; margin: 5px; background-color: rgb(255,236,184)\"><i>Note</i>: in my experience, the <i>majority</i> of mistakes with data frames have to do with asking for the 'wrong' thing: you want a list, but get a data frame; you want a Series but get a list; you want a single value, but have asked for the index on a Series... Pandas syntax is quite coherent once you get your head around it, but if you're having difficulty <b>always check the type of the returned data</b> since there's a fair chance it's not what you think.</div>"
   ]
  },
  {
   "cell_type": "markdown",
   "metadata": {},
   "source": [
    "### Task 4.7: Different Styles of Access"
   ]
  },
  {
   "cell_type": "markdown",
   "metadata": {},
   "source": [
    "Notice also these different ways of accessing the data using dictionary and method styles:"
   ]
  },
  {
   "cell_type": "code",
   "execution_count": 67,
   "metadata": {},
   "outputs": [
    {
     "name": "stdout",
     "output_type": "stream",
     "text": [
      "id\n",
      "0   -0.128\n",
      "1   -2.245\n",
      "2   -1.903\n",
      "3   -3.189\n",
      "4   -4.223\n",
      "5   -1.145\n",
      "Name: Longitude, dtype: float64\n",
      "\n",
      "id\n",
      "0   -0.128\n",
      "1   -2.245\n",
      "2   -1.903\n",
      "3   -3.189\n",
      "4   -4.223\n",
      "5   -1.145\n",
      "Name: Longitude, dtype: float64\n"
     ]
    }
   ],
   "source": [
    "# These are equivalent\n",
    "print(df.Longitude)\n",
    "print()\n",
    "print(df['Longitude'])"
   ]
  },
  {
   "cell_type": "markdown",
   "metadata": {},
   "source": [
    "Or:"
   ]
  },
  {
   "cell_type": "code",
   "execution_count": 69,
   "metadata": {},
   "outputs": [
    {
     "name": "stdout",
     "output_type": "stream",
     "text": [
      "id\n",
      "0   -0.128\n",
      "Name: Longitude, dtype: float64\n",
      "\n",
      "id\n",
      "0   -0.128\n",
      "Name: Longitude, dtype: float64\n"
     ]
    }
   ],
   "source": [
    "# These are also equiavelent\n",
    "print(df[df['Name']=='Greater London']['Longitude'])\n",
    "print()\n",
    "print(df[df.Name=='Greater London'].Longitude)"
   ]
  },
  {
   "cell_type": "markdown",
   "metadata": {},
   "source": [
    "## Task 5. Reading and Writing Data \n",
    "\n",
    "It’s rare that we would actually want to write 'hand code' a Data Frame, usually, we **read** existing data into the `df`; this could be a data stored on a remote computer (*i.e.* on the Internet) or from a local file (on your hard drive). After manipulation and analysis we may also want to **save** a `df` for later use. To faciliate reading (and writing) files, pandas has a [variety of functions](http://pandas.pydata.org/pandas-docs/stable/io.html)."
   ]
  },
  {
   "cell_type": "markdown",
   "metadata": {},
   "source": [
    "We'll look at how we read and write existing data using pandas functions by taking three steps:\n",
    "1. read a data file from a remote location\n",
    "2. write the data to a file on your local HDD\n",
    "3. (re)read the data from your local HDD.\n",
    "\n",
    "You do _not_ need to run this entire process every time you start this or any other notebook. We are just demonstrating the flexibility of pandas. A little tweaking may required, but you may actually be able to directly use the function that you wrote last week (in the `dtools` package) to check if you need to download the data and then download it just the once. Then after that point the function will always just return a reference to the locally-saved file!\n",
    "\n",
    "The pandas `read_csv` function can read data saved in csv format _and_ which has been compressed directly into a `df`. Similarly, the `to_csv` function can write a pandas `df` in csv format _and_ compress the file using gzip.\n"
   ]
  },
  {
   "cell_type": "markdown",
   "metadata": {},
   "source": [
    "### Task 5.1: Read a remote file in pandas"
   ]
  },
  {
   "cell_type": "markdown",
   "metadata": {},
   "source": [
    "We're working with the compressed CSV file available [here](https://github.com/jreades/i2p/raw/master/data/src/2019-Crime.csv.gz). The `low_memory=False` option means that pandas will try to load the entire data frame before working out the best data type for each column. In general, unless the file is _massive_ or your computer is _struggling_ this option will make for less work."
   ]
  },
  {
   "cell_type": "code",
   "execution_count": 77,
   "metadata": {},
   "outputs": [
    {
     "name": "stdout",
     "output_type": "stream",
     "text": [
      "Loaded!\n",
      "<bound method DataFrame.info of               ID Case Number                    Date                  Block  \\\n",
      "0       12158859    JD357896  11/13/2019 12:00:00 PM     103XX S PULASKI RD   \n",
      "1       12158546    JD359475  06/21/2019 11:58:00 AM  077XX S SPAULDING AVE   \n",
      "2       12157400    JD357928  10/15/2019 12:00:00 PM     103XX S PULASKI RD   \n",
      "3       12157398    JD357915  10/15/2019 12:00:00 PM     103XX S PULASKI RD   \n",
      "4       12157329    JD357903  07/19/2019 12:00:00 PM     103XX S PULASKI RD   \n",
      "...          ...         ...                     ...                    ...   \n",
      "260020     24507    JC238631  04/26/2019 01:37:00 AM       109XX S STATE ST   \n",
      "260021     24528    JC251611  05/06/2019 08:06:00 AM     000XX S ALBANY AVE   \n",
      "260022     24536    JC259301  05/11/2019 07:27:00 PM    058XX W DIVISION ST   \n",
      "260023     24541    JC262922  05/14/2019 04:28:00 PM      031XX W MONROE ST   \n",
      "260024     24549    JC269046  05/19/2019 05:36:00 AM      049XX W THOMAS ST   \n",
      "\n",
      "        IUCR             Primary Type                     Description  \\\n",
      "0       5001            OTHER OFFENSE  OTHER CRIME INVOLVING PROPERTY   \n",
      "1       0281  CRIMINAL SEXUAL ASSAULT                  NON-AGGRAVATED   \n",
      "2       5001            OTHER OFFENSE  OTHER CRIME INVOLVING PROPERTY   \n",
      "3       5001            OTHER OFFENSE  OTHER CRIME INVOLVING PROPERTY   \n",
      "4       5001            OTHER OFFENSE  OTHER CRIME INVOLVING PROPERTY   \n",
      "...      ...                      ...                             ...   \n",
      "260020  0110                 HOMICIDE             FIRST DEGREE MURDER   \n",
      "260021  0110                 HOMICIDE             FIRST DEGREE MURDER   \n",
      "260022  0110                 HOMICIDE             FIRST DEGREE MURDER   \n",
      "260023  0110                 HOMICIDE             FIRST DEGREE MURDER   \n",
      "260024  0110                 HOMICIDE             FIRST DEGREE MURDER   \n",
      "\n",
      "       Location Description  Arrest  Domestic  ...  Ward  Community Area  \\\n",
      "0           OTHER (SPECIFY)   False     False  ...  19.0              74   \n",
      "1           OTHER (SPECIFY)   False     False  ...  18.0              70   \n",
      "2           OTHER (SPECIFY)   False     False  ...  19.0              74   \n",
      "3           OTHER (SPECIFY)   False     False  ...  19.0              74   \n",
      "4           OTHER (SPECIFY)   False     False  ...  19.0              74   \n",
      "...                     ...     ...       ...  ...   ...             ...   \n",
      "260020               STREET   False     False  ...   9.0              49   \n",
      "260021                 YARD   False     False  ...  28.0              27   \n",
      "260022               STREET   False     False  ...  29.0              25   \n",
      "260023                 YARD   False     False  ...  28.0              27   \n",
      "260024                 AUTO   False     False  ...  37.0              25   \n",
      "\n",
      "        FBI Code  X Coordinate Y Coordinate  Year              Updated On  \\\n",
      "0             26           NaN          NaN  2019  09/08/2020 03:50:39 PM   \n",
      "1             02           NaN          NaN  2019  09/08/2020 03:50:39 PM   \n",
      "2             26           NaN          NaN  2019  09/08/2020 03:48:11 PM   \n",
      "3             26           NaN          NaN  2019  09/08/2020 03:48:11 PM   \n",
      "4             26           NaN          NaN  2019  09/08/2020 03:48:11 PM   \n",
      "...          ...           ...          ...   ...                     ...   \n",
      "260020       01A     1178194.0    1832459.0  2019  05/03/2019 04:14:46 PM   \n",
      "260021       01A     1155916.0    1899636.0  2019  05/13/2019 04:13:25 PM   \n",
      "260022       01A     1136993.0    1907395.0  2019  05/18/2019 04:03:45 PM   \n",
      "260023       01A     1155639.0    1899371.0  2019  05/21/2019 04:08:13 PM   \n",
      "260024       01A     1143226.0    1906866.0  2019  05/26/2019 04:04:27 PM   \n",
      "\n",
      "         Latitude  Longitude                       Location  \n",
      "0             NaN        NaN                            NaN  \n",
      "1             NaN        NaN                            NaN  \n",
      "2             NaN        NaN                            NaN  \n",
      "3             NaN        NaN                            NaN  \n",
      "4             NaN        NaN                            NaN  \n",
      "...           ...        ...                            ...  \n",
      "260020  41.695576 -87.623190   (41.695575575, -87.62318951)  \n",
      "260021  41.880394 -87.702954  (41.880394026, -87.702954046)  \n",
      "260022  41.902046 -87.772252  (41.902046108, -87.772251983)  \n",
      "260023  41.879672 -87.703978  (41.879672418, -87.703978301)  \n",
      "260024  41.900480 -87.749370  (41.900480323, -87.749370229)  \n",
      "\n",
      "[260025 rows x 22 columns]>\n"
     ]
    },
    {
     "data": {
      "text/html": [
       "<div>\n",
       "<style scoped>\n",
       "    .dataframe tbody tr th:only-of-type {\n",
       "        vertical-align: middle;\n",
       "    }\n",
       "\n",
       "    .dataframe tbody tr th {\n",
       "        vertical-align: top;\n",
       "    }\n",
       "\n",
       "    .dataframe thead th {\n",
       "        text-align: right;\n",
       "    }\n",
       "</style>\n",
       "<table border=\"1\" class=\"dataframe\">\n",
       "  <thead>\n",
       "    <tr style=\"text-align: right;\">\n",
       "      <th></th>\n",
       "      <th>ID</th>\n",
       "      <th>Beat</th>\n",
       "      <th>District</th>\n",
       "      <th>Ward</th>\n",
       "      <th>Community Area</th>\n",
       "      <th>X Coordinate</th>\n",
       "      <th>Y Coordinate</th>\n",
       "      <th>Year</th>\n",
       "      <th>Latitude</th>\n",
       "      <th>Longitude</th>\n",
       "    </tr>\n",
       "  </thead>\n",
       "  <tbody>\n",
       "    <tr>\n",
       "      <th>count</th>\n",
       "      <td>2.600250e+05</td>\n",
       "      <td>260025.000000</td>\n",
       "      <td>260025.000000</td>\n",
       "      <td>260010.000000</td>\n",
       "      <td>260025.000000</td>\n",
       "      <td>2.588530e+05</td>\n",
       "      <td>2.588530e+05</td>\n",
       "      <td>260025.0</td>\n",
       "      <td>258853.000000</td>\n",
       "      <td>258853.000000</td>\n",
       "    </tr>\n",
       "    <tr>\n",
       "      <th>mean</th>\n",
       "      <td>1.172846e+07</td>\n",
       "      <td>1137.304590</td>\n",
       "      <td>11.144248</td>\n",
       "      <td>23.330241</td>\n",
       "      <td>36.611445</td>\n",
       "      <td>1.165121e+06</td>\n",
       "      <td>1.886299e+06</td>\n",
       "      <td>2019.0</td>\n",
       "      <td>41.843590</td>\n",
       "      <td>-87.669572</td>\n",
       "    </tr>\n",
       "    <tr>\n",
       "      <th>std</th>\n",
       "      <td>5.239159e+05</td>\n",
       "      <td>696.368227</td>\n",
       "      <td>6.955089</td>\n",
       "      <td>13.912160</td>\n",
       "      <td>21.403524</td>\n",
       "      <td>1.638187e+04</td>\n",
       "      <td>3.151722e+04</td>\n",
       "      <td>0.0</td>\n",
       "      <td>0.086689</td>\n",
       "      <td>0.059523</td>\n",
       "    </tr>\n",
       "    <tr>\n",
       "      <th>min</th>\n",
       "      <td>2.436800e+04</td>\n",
       "      <td>111.000000</td>\n",
       "      <td>1.000000</td>\n",
       "      <td>1.000000</td>\n",
       "      <td>1.000000</td>\n",
       "      <td>0.000000e+00</td>\n",
       "      <td>0.000000e+00</td>\n",
       "      <td>2019.0</td>\n",
       "      <td>36.619446</td>\n",
       "      <td>-91.686566</td>\n",
       "    </tr>\n",
       "    <tr>\n",
       "      <th>25%</th>\n",
       "      <td>1.165409e+07</td>\n",
       "      <td>611.000000</td>\n",
       "      <td>6.000000</td>\n",
       "      <td>10.000000</td>\n",
       "      <td>23.000000</td>\n",
       "      <td>1.153431e+06</td>\n",
       "      <td>1.859110e+06</td>\n",
       "      <td>2019.0</td>\n",
       "      <td>41.768744</td>\n",
       "      <td>-87.711977</td>\n",
       "    </tr>\n",
       "    <tr>\n",
       "      <th>50%</th>\n",
       "      <td>1.175106e+07</td>\n",
       "      <td>1024.000000</td>\n",
       "      <td>10.000000</td>\n",
       "      <td>24.000000</td>\n",
       "      <td>32.000000</td>\n",
       "      <td>1.167024e+06</td>\n",
       "      <td>1.893778e+06</td>\n",
       "      <td>2019.0</td>\n",
       "      <td>41.864226</td>\n",
       "      <td>-87.662828</td>\n",
       "    </tr>\n",
       "    <tr>\n",
       "      <th>75%</th>\n",
       "      <td>1.184644e+07</td>\n",
       "      <td>1722.000000</td>\n",
       "      <td>17.000000</td>\n",
       "      <td>34.000000</td>\n",
       "      <td>53.000000</td>\n",
       "      <td>1.176569e+06</td>\n",
       "      <td>1.908252e+06</td>\n",
       "      <td>2019.0</td>\n",
       "      <td>41.903805</td>\n",
       "      <td>-87.627691</td>\n",
       "    </tr>\n",
       "    <tr>\n",
       "      <th>max</th>\n",
       "      <td>1.215886e+07</td>\n",
       "      <td>2535.000000</td>\n",
       "      <td>31.000000</td>\n",
       "      <td>50.000000</td>\n",
       "      <td>77.000000</td>\n",
       "      <td>1.205116e+06</td>\n",
       "      <td>1.951520e+06</td>\n",
       "      <td>2019.0</td>\n",
       "      <td>42.022567</td>\n",
       "      <td>-87.524529</td>\n",
       "    </tr>\n",
       "  </tbody>\n",
       "</table>\n",
       "</div>"
      ],
      "text/plain": [
       "                 ID           Beat       District           Ward  \\\n",
       "count  2.600250e+05  260025.000000  260025.000000  260010.000000   \n",
       "mean   1.172846e+07    1137.304590      11.144248      23.330241   \n",
       "std    5.239159e+05     696.368227       6.955089      13.912160   \n",
       "min    2.436800e+04     111.000000       1.000000       1.000000   \n",
       "25%    1.165409e+07     611.000000       6.000000      10.000000   \n",
       "50%    1.175106e+07    1024.000000      10.000000      24.000000   \n",
       "75%    1.184644e+07    1722.000000      17.000000      34.000000   \n",
       "max    1.215886e+07    2535.000000      31.000000      50.000000   \n",
       "\n",
       "       Community Area  X Coordinate  Y Coordinate      Year       Latitude  \\\n",
       "count   260025.000000  2.588530e+05  2.588530e+05  260025.0  258853.000000   \n",
       "mean        36.611445  1.165121e+06  1.886299e+06    2019.0      41.843590   \n",
       "std         21.403524  1.638187e+04  3.151722e+04       0.0       0.086689   \n",
       "min          1.000000  0.000000e+00  0.000000e+00    2019.0      36.619446   \n",
       "25%         23.000000  1.153431e+06  1.859110e+06    2019.0      41.768744   \n",
       "50%         32.000000  1.167024e+06  1.893778e+06    2019.0      41.864226   \n",
       "75%         53.000000  1.176569e+06  1.908252e+06    2019.0      41.903805   \n",
       "max         77.000000  1.205116e+06  1.951520e+06    2019.0      42.022567   \n",
       "\n",
       "           Longitude  \n",
       "count  258853.000000  \n",
       "mean      -87.669572  \n",
       "std         0.059523  \n",
       "min       -91.686566  \n",
       "25%       -87.711977  \n",
       "50%       -87.662828  \n",
       "75%       -87.627691  \n",
       "max       -87.524529  "
      ]
     },
     "execution_count": 77,
     "metadata": {},
     "output_type": "execute_result"
    }
   ],
   "source": [
    "df = pd.read_csv(\n",
    "    'https://github.com/jreades/i2p/raw/master/data/src/2019-Crime.csv.gz',\n",
    "    low_memory=False) # The 'low memory' option means pandas doesn't guess data types\n",
    "\n",
    "print(\"Loaded!\")\n",
    "print(df.info)\n",
    "df.describe()"
   ]
  },
  {
   "cell_type": "markdown",
   "metadata": {},
   "source": [
    "All being well, the code above should not have produced an error when running and printed `Done!`, followed my some useful summary information when the pandas data frame was loaded. Notice that `df.describe()` produces HTML-compatible output when run in Jupyter."
   ]
  },
  {
   "cell_type": "code",
   "execution_count": 79,
   "metadata": {},
   "outputs": [
    {
     "data": {
      "text/html": [
       "<div>\n",
       "<style scoped>\n",
       "    .dataframe tbody tr th:only-of-type {\n",
       "        vertical-align: middle;\n",
       "    }\n",
       "\n",
       "    .dataframe tbody tr th {\n",
       "        vertical-align: top;\n",
       "    }\n",
       "\n",
       "    .dataframe thead th {\n",
       "        text-align: right;\n",
       "    }\n",
       "</style>\n",
       "<table border=\"1\" class=\"dataframe\">\n",
       "  <thead>\n",
       "    <tr style=\"text-align: right;\">\n",
       "      <th></th>\n",
       "      <th>ID</th>\n",
       "      <th>Case Number</th>\n",
       "      <th>Date</th>\n",
       "      <th>Block</th>\n",
       "      <th>IUCR</th>\n",
       "      <th>Primary Type</th>\n",
       "      <th>Description</th>\n",
       "      <th>Location Description</th>\n",
       "      <th>Arrest</th>\n",
       "      <th>Domestic</th>\n",
       "      <th>...</th>\n",
       "      <th>Ward</th>\n",
       "      <th>Community Area</th>\n",
       "      <th>FBI Code</th>\n",
       "      <th>X Coordinate</th>\n",
       "      <th>Y Coordinate</th>\n",
       "      <th>Year</th>\n",
       "      <th>Updated On</th>\n",
       "      <th>Latitude</th>\n",
       "      <th>Longitude</th>\n",
       "      <th>Location</th>\n",
       "    </tr>\n",
       "  </thead>\n",
       "  <tbody>\n",
       "    <tr>\n",
       "      <th>0</th>\n",
       "      <td>12158859</td>\n",
       "      <td>JD357896</td>\n",
       "      <td>11/13/2019 12:00:00 PM</td>\n",
       "      <td>103XX S PULASKI RD</td>\n",
       "      <td>5001</td>\n",
       "      <td>OTHER OFFENSE</td>\n",
       "      <td>OTHER CRIME INVOLVING PROPERTY</td>\n",
       "      <td>OTHER (SPECIFY)</td>\n",
       "      <td>False</td>\n",
       "      <td>False</td>\n",
       "      <td>...</td>\n",
       "      <td>19.0</td>\n",
       "      <td>74</td>\n",
       "      <td>26</td>\n",
       "      <td>NaN</td>\n",
       "      <td>NaN</td>\n",
       "      <td>2019</td>\n",
       "      <td>09/08/2020 03:50:39 PM</td>\n",
       "      <td>NaN</td>\n",
       "      <td>NaN</td>\n",
       "      <td>NaN</td>\n",
       "    </tr>\n",
       "    <tr>\n",
       "      <th>1</th>\n",
       "      <td>12158546</td>\n",
       "      <td>JD359475</td>\n",
       "      <td>06/21/2019 11:58:00 AM</td>\n",
       "      <td>077XX S SPAULDING AVE</td>\n",
       "      <td>0281</td>\n",
       "      <td>CRIMINAL SEXUAL ASSAULT</td>\n",
       "      <td>NON-AGGRAVATED</td>\n",
       "      <td>OTHER (SPECIFY)</td>\n",
       "      <td>False</td>\n",
       "      <td>False</td>\n",
       "      <td>...</td>\n",
       "      <td>18.0</td>\n",
       "      <td>70</td>\n",
       "      <td>02</td>\n",
       "      <td>NaN</td>\n",
       "      <td>NaN</td>\n",
       "      <td>2019</td>\n",
       "      <td>09/08/2020 03:50:39 PM</td>\n",
       "      <td>NaN</td>\n",
       "      <td>NaN</td>\n",
       "      <td>NaN</td>\n",
       "    </tr>\n",
       "    <tr>\n",
       "      <th>2</th>\n",
       "      <td>12157400</td>\n",
       "      <td>JD357928</td>\n",
       "      <td>10/15/2019 12:00:00 PM</td>\n",
       "      <td>103XX S PULASKI RD</td>\n",
       "      <td>5001</td>\n",
       "      <td>OTHER OFFENSE</td>\n",
       "      <td>OTHER CRIME INVOLVING PROPERTY</td>\n",
       "      <td>OTHER (SPECIFY)</td>\n",
       "      <td>False</td>\n",
       "      <td>False</td>\n",
       "      <td>...</td>\n",
       "      <td>19.0</td>\n",
       "      <td>74</td>\n",
       "      <td>26</td>\n",
       "      <td>NaN</td>\n",
       "      <td>NaN</td>\n",
       "      <td>2019</td>\n",
       "      <td>09/08/2020 03:48:11 PM</td>\n",
       "      <td>NaN</td>\n",
       "      <td>NaN</td>\n",
       "      <td>NaN</td>\n",
       "    </tr>\n",
       "  </tbody>\n",
       "</table>\n",
       "<p>3 rows × 22 columns</p>\n",
       "</div>"
      ],
      "text/plain": [
       "         ID Case Number                    Date                  Block  IUCR  \\\n",
       "0  12158859    JD357896  11/13/2019 12:00:00 PM     103XX S PULASKI RD  5001   \n",
       "1  12158546    JD359475  06/21/2019 11:58:00 AM  077XX S SPAULDING AVE  0281   \n",
       "2  12157400    JD357928  10/15/2019 12:00:00 PM     103XX S PULASKI RD  5001   \n",
       "\n",
       "              Primary Type                     Description  \\\n",
       "0            OTHER OFFENSE  OTHER CRIME INVOLVING PROPERTY   \n",
       "1  CRIMINAL SEXUAL ASSAULT                  NON-AGGRAVATED   \n",
       "2            OTHER OFFENSE  OTHER CRIME INVOLVING PROPERTY   \n",
       "\n",
       "  Location Description  Arrest  Domestic  ...  Ward  Community Area  FBI Code  \\\n",
       "0      OTHER (SPECIFY)   False     False  ...  19.0              74        26   \n",
       "1      OTHER (SPECIFY)   False     False  ...  18.0              70        02   \n",
       "2      OTHER (SPECIFY)   False     False  ...  19.0              74        26   \n",
       "\n",
       "   X Coordinate Y Coordinate  Year              Updated On  Latitude  \\\n",
       "0           NaN          NaN  2019  09/08/2020 03:50:39 PM       NaN   \n",
       "1           NaN          NaN  2019  09/08/2020 03:50:39 PM       NaN   \n",
       "2           NaN          NaN  2019  09/08/2020 03:48:11 PM       NaN   \n",
       "\n",
       "  Longitude  Location  \n",
       "0       NaN       NaN  \n",
       "1       NaN       NaN  \n",
       "2       NaN       NaN  \n",
       "\n",
       "[3 rows x 22 columns]"
      ]
     },
     "execution_count": 79,
     "metadata": {},
     "output_type": "execute_result"
    }
   ],
   "source": [
    "df.head(3)"
   ]
  },
  {
   "cell_type": "markdown",
   "metadata": {},
   "source": [
    "**Notice** that there is one column (the first one on the left next to `id`) has no label in bold type? *That* is the index.\n",
    "\n",
    "<div style=\"border: dotted 1px green; padding: 10px; margin: 5px; background-color: rgb(249,255,249);\"><i>Hint</i>: for now, think about how useful the <tt>pd.read_csv</tt> function is: instead of having to write some kind of <tt>readRemoteCSV</tt> function ourselves, and then manually create a Dictionary-of-Lists from that remote file, we just told pandas to read it for us and it automagically converted it to a data structure that we we will be able use lots of functions to analyse (as we'll see below). You'll notice that it even figured out where the column names were.</div>"
   ]
  },
  {
   "cell_type": "markdown",
   "metadata": {},
   "source": [
    "### Task 5.2: Writing a Data Frame to a local file \n",
    "\n",
    "Writing a file to disk (i.e. saving it for later use), is just as easy as reading the data. The following code writes the data frame to a csv file using the `to_csv` data frame method: "
   ]
  },
  {
   "cell_type": "code",
   "execution_count": 87,
   "metadata": {},
   "outputs": [],
   "source": [
    "path = os.path.join('data','raw')\n",
    "fn   = '2019-crime.csv.gz'"
   ]
  },
  {
   "cell_type": "markdown",
   "metadata": {},
   "source": [
    "<div style=\"border: dotted 1px red; padding: 10px; margin: 5px; background-color: rgb(255,249,249);\"><i>Danger</i>: note the 'working directory' output here and remember that <tt>work</tt> is the 'mount point' for your computer (if you're using Docker or Vagrant) so you're interested in where you might be about to write your data. If you need to change the working directory you need to use <b><tt>%cd &lt;path/to/wd&gt;</tt></b>.</div>"
   ]
  },
  {
   "cell_type": "code",
   "execution_count": 86,
   "metadata": {},
   "outputs": [
    {
     "name": "stdout",
     "output_type": "stream",
     "text": [
      "/home/jovyan/work/i2p-private/live\n"
     ]
    }
   ],
   "source": [
    "!pwd"
   ]
  },
  {
   "cell_type": "markdown",
   "metadata": {},
   "source": [
    "Here's a more Pythonic way to get this information and do something useful with it:"
   ]
  },
  {
   "cell_type": "code",
   "execution_count": 91,
   "metadata": {},
   "outputs": [
    {
     "name": "stdout",
     "output_type": "stream",
     "text": [
      "/home/jovyan/work/i2p-private/live\n",
      "Working directory is: i2p-private/live\n"
     ]
    }
   ],
   "source": [
    "import os # You only need to do this once per notebook\n",
    "print(os.getcwd())\n",
    "print(f\"Working directory is: {os.getcwd().replace('/home/jovyan/work/','')}\")"
   ]
  },
  {
   "cell_type": "code",
   "execution_count": 93,
   "metadata": {},
   "outputs": [
    {
     "name": "stdout",
     "output_type": "stream",
     "text": [
      "Done.\n"
     ]
    }
   ],
   "source": [
    "if not os.path.exists(path):\n",
    "    print(f\"Creating '{path}' directory...\")\n",
    "    os.makedirs(path)\n",
    "\n",
    "df.to_csv(os.path.join(path,fn), compression='gzip', index=False)\n",
    "print(\"Done.\")"
   ]
  },
  {
   "cell_type": "markdown",
   "metadata": {},
   "source": [
    "There are three things to note here: \n",
    "\n",
    "1. we have passed a value of `False` to the `index` argument; read what that does [in the documentation](http://pandas.pydata.org/pandas-docs/stable/io.html#io-store-in-csv)\n",
    "2. we have used `os.path.exists` and `os.path.join` to write portable Python code (both will be interpreted _as appropriate for **your** computer_) that will create missing directories (if necessary) and then write the data frame there.\n",
    "3. we have written a CSV file using `gzip` compression; although you often don't need to specify `compression='gzip'` it never hurts to be explicit about what you want."
   ]
  },
  {
   "cell_type": "markdown",
   "metadata": {},
   "source": [
    "It is up to you to decide how you want to manage your data, so think about these different methods and maybe even ask for advice on [best practice](https://library.stanford.edu/research/data-management-services/data-best-practices) if you want.  "
   ]
  },
  {
   "cell_type": "markdown",
   "metadata": {},
   "source": [
    "### Task 5.3: Deleting a Variable\n",
    "\n",
    "Before we read the data back in, to ensure that reading the local file works properly we'll delete the`df` object completely (this will generate an error!):"
   ]
  },
  {
   "cell_type": "code",
   "execution_count": 94,
   "metadata": {
    "scrolled": true
   },
   "outputs": [
    {
     "ename": "NameError",
     "evalue": "name 'df' is not defined",
     "output_type": "error",
     "traceback": [
      "\u001b[0;31m---------------------------------------------------------------------------\u001b[0m",
      "\u001b[0;31mNameError\u001b[0m                                 Traceback (most recent call last)",
      "\u001b[0;32m<ipython-input-94-ff9dd68055ce>\u001b[0m in \u001b[0;36m<module>\u001b[0;34m\u001b[0m\n\u001b[1;32m      1\u001b[0m \u001b[0;32mdel\u001b[0m\u001b[0;34m(\u001b[0m\u001b[0mdf\u001b[0m\u001b[0;34m)\u001b[0m\u001b[0;34m\u001b[0m\u001b[0;34m\u001b[0m\u001b[0m\n\u001b[0;32m----> 2\u001b[0;31m \u001b[0mprint\u001b[0m\u001b[0;34m(\u001b[0m\u001b[0mtype\u001b[0m\u001b[0;34m(\u001b[0m\u001b[0mdf\u001b[0m\u001b[0;34m)\u001b[0m\u001b[0;34m)\u001b[0m\u001b[0;34m\u001b[0m\u001b[0;34m\u001b[0m\u001b[0m\n\u001b[0m",
      "\u001b[0;31mNameError\u001b[0m: name 'df' is not defined"
     ]
    }
   ],
   "source": [
    "del(df)\n",
    "print(type(df))"
   ]
  },
  {
   "cell_type": "markdown",
   "metadata": {},
   "source": [
    "That's one bit of code you actually _do_ want an error from! The error shows we have successfully removed the `df` object from memory (so python can't find it when we ask what type it is).  "
   ]
  },
  {
   "cell_type": "markdown",
   "metadata": {},
   "source": [
    "### Task 5.4: Reading data from a local file\n",
    "\n",
    "Reading files from a local HDD is just as easy as reading from a remote location. Again, specifying compression is option when the file name ends in `gz`."
   ]
  },
  {
   "cell_type": "code",
   "execution_count": 87,
   "metadata": {},
   "outputs": [],
   "source": [
    "path = os.path.join('data','raw') # These should match the values set above\n",
    "fn   = '2019-crime.csv.gz'"
   ]
  },
  {
   "cell_type": "code",
   "execution_count": 96,
   "metadata": {
    "scrolled": true
   },
   "outputs": [
    {
     "data": {
      "text/html": [
       "<div>\n",
       "<style scoped>\n",
       "    .dataframe tbody tr th:only-of-type {\n",
       "        vertical-align: middle;\n",
       "    }\n",
       "\n",
       "    .dataframe tbody tr th {\n",
       "        vertical-align: top;\n",
       "    }\n",
       "\n",
       "    .dataframe thead th {\n",
       "        text-align: right;\n",
       "    }\n",
       "</style>\n",
       "<table border=\"1\" class=\"dataframe\">\n",
       "  <thead>\n",
       "    <tr style=\"text-align: right;\">\n",
       "      <th></th>\n",
       "      <th>ID</th>\n",
       "      <th>Beat</th>\n",
       "      <th>District</th>\n",
       "      <th>Ward</th>\n",
       "      <th>Community Area</th>\n",
       "      <th>X Coordinate</th>\n",
       "      <th>Y Coordinate</th>\n",
       "      <th>Year</th>\n",
       "      <th>Latitude</th>\n",
       "      <th>Longitude</th>\n",
       "    </tr>\n",
       "  </thead>\n",
       "  <tbody>\n",
       "    <tr>\n",
       "      <th>count</th>\n",
       "      <td>2.600250e+05</td>\n",
       "      <td>260025.000000</td>\n",
       "      <td>260025.000000</td>\n",
       "      <td>260010.000000</td>\n",
       "      <td>260025.000000</td>\n",
       "      <td>2.588530e+05</td>\n",
       "      <td>2.588530e+05</td>\n",
       "      <td>260025.0</td>\n",
       "      <td>258853.000000</td>\n",
       "      <td>258853.000000</td>\n",
       "    </tr>\n",
       "    <tr>\n",
       "      <th>mean</th>\n",
       "      <td>1.172846e+07</td>\n",
       "      <td>1137.304590</td>\n",
       "      <td>11.144248</td>\n",
       "      <td>23.330241</td>\n",
       "      <td>36.611445</td>\n",
       "      <td>1.165121e+06</td>\n",
       "      <td>1.886299e+06</td>\n",
       "      <td>2019.0</td>\n",
       "      <td>41.843590</td>\n",
       "      <td>-87.669572</td>\n",
       "    </tr>\n",
       "    <tr>\n",
       "      <th>std</th>\n",
       "      <td>5.239159e+05</td>\n",
       "      <td>696.368227</td>\n",
       "      <td>6.955089</td>\n",
       "      <td>13.912160</td>\n",
       "      <td>21.403524</td>\n",
       "      <td>1.638187e+04</td>\n",
       "      <td>3.151722e+04</td>\n",
       "      <td>0.0</td>\n",
       "      <td>0.086689</td>\n",
       "      <td>0.059523</td>\n",
       "    </tr>\n",
       "    <tr>\n",
       "      <th>min</th>\n",
       "      <td>2.436800e+04</td>\n",
       "      <td>111.000000</td>\n",
       "      <td>1.000000</td>\n",
       "      <td>1.000000</td>\n",
       "      <td>1.000000</td>\n",
       "      <td>0.000000e+00</td>\n",
       "      <td>0.000000e+00</td>\n",
       "      <td>2019.0</td>\n",
       "      <td>36.619446</td>\n",
       "      <td>-91.686566</td>\n",
       "    </tr>\n",
       "    <tr>\n",
       "      <th>25%</th>\n",
       "      <td>1.165409e+07</td>\n",
       "      <td>611.000000</td>\n",
       "      <td>6.000000</td>\n",
       "      <td>10.000000</td>\n",
       "      <td>23.000000</td>\n",
       "      <td>1.153431e+06</td>\n",
       "      <td>1.859110e+06</td>\n",
       "      <td>2019.0</td>\n",
       "      <td>41.768744</td>\n",
       "      <td>-87.711977</td>\n",
       "    </tr>\n",
       "    <tr>\n",
       "      <th>50%</th>\n",
       "      <td>1.175106e+07</td>\n",
       "      <td>1024.000000</td>\n",
       "      <td>10.000000</td>\n",
       "      <td>24.000000</td>\n",
       "      <td>32.000000</td>\n",
       "      <td>1.167024e+06</td>\n",
       "      <td>1.893778e+06</td>\n",
       "      <td>2019.0</td>\n",
       "      <td>41.864226</td>\n",
       "      <td>-87.662828</td>\n",
       "    </tr>\n",
       "    <tr>\n",
       "      <th>75%</th>\n",
       "      <td>1.184644e+07</td>\n",
       "      <td>1722.000000</td>\n",
       "      <td>17.000000</td>\n",
       "      <td>34.000000</td>\n",
       "      <td>53.000000</td>\n",
       "      <td>1.176569e+06</td>\n",
       "      <td>1.908252e+06</td>\n",
       "      <td>2019.0</td>\n",
       "      <td>41.903805</td>\n",
       "      <td>-87.627691</td>\n",
       "    </tr>\n",
       "    <tr>\n",
       "      <th>max</th>\n",
       "      <td>1.215886e+07</td>\n",
       "      <td>2535.000000</td>\n",
       "      <td>31.000000</td>\n",
       "      <td>50.000000</td>\n",
       "      <td>77.000000</td>\n",
       "      <td>1.205116e+06</td>\n",
       "      <td>1.951520e+06</td>\n",
       "      <td>2019.0</td>\n",
       "      <td>42.022567</td>\n",
       "      <td>-87.524529</td>\n",
       "    </tr>\n",
       "  </tbody>\n",
       "</table>\n",
       "</div>"
      ],
      "text/plain": [
       "                 ID           Beat       District           Ward  \\\n",
       "count  2.600250e+05  260025.000000  260025.000000  260010.000000   \n",
       "mean   1.172846e+07    1137.304590      11.144248      23.330241   \n",
       "std    5.239159e+05     696.368227       6.955089      13.912160   \n",
       "min    2.436800e+04     111.000000       1.000000       1.000000   \n",
       "25%    1.165409e+07     611.000000       6.000000      10.000000   \n",
       "50%    1.175106e+07    1024.000000      10.000000      24.000000   \n",
       "75%    1.184644e+07    1722.000000      17.000000      34.000000   \n",
       "max    1.215886e+07    2535.000000      31.000000      50.000000   \n",
       "\n",
       "       Community Area  X Coordinate  Y Coordinate      Year       Latitude  \\\n",
       "count   260025.000000  2.588530e+05  2.588530e+05  260025.0  258853.000000   \n",
       "mean        36.611445  1.165121e+06  1.886299e+06    2019.0      41.843590   \n",
       "std         21.403524  1.638187e+04  3.151722e+04       0.0       0.086689   \n",
       "min          1.000000  0.000000e+00  0.000000e+00    2019.0      36.619446   \n",
       "25%         23.000000  1.153431e+06  1.859110e+06    2019.0      41.768744   \n",
       "50%         32.000000  1.167024e+06  1.893778e+06    2019.0      41.864226   \n",
       "75%         53.000000  1.176569e+06  1.908252e+06    2019.0      41.903805   \n",
       "max         77.000000  1.205116e+06  1.951520e+06    2019.0      42.022567   \n",
       "\n",
       "           Longitude  \n",
       "count  258853.000000  \n",
       "mean      -87.669572  \n",
       "std         0.059523  \n",
       "min       -91.686566  \n",
       "25%       -87.711977  \n",
       "50%       -87.662828  \n",
       "75%       -87.627691  \n",
       "max       -87.524529  "
      ]
     },
     "execution_count": 96,
     "metadata": {},
     "output_type": "execute_result"
    }
   ],
   "source": [
    "df = pd.read_csv(os.path.join(path,fn), compression='gzip')\n",
    "df.describe()"
   ]
  },
  {
   "cell_type": "markdown",
   "metadata": {},
   "source": [
    "This is all pretty straightforward _assuming that you know where your data are stored on the HDD_."
   ]
  },
  {
   "cell_type": "markdown",
   "metadata": {},
   "source": [
    "### Task 5.5: The Size of a Data Frame\n",
    "\n",
    "We can explore some of the [attributes](http://pandas.pydata.org/pandas-docs/stable/generated/pandas.DataFrame.html) of the data frame. For example the `shape` attribute is a tuple:"
   ]
  },
  {
   "cell_type": "code",
   "execution_count": 98,
   "metadata": {},
   "outputs": [
    {
     "name": "stdout",
     "output_type": "stream",
     "text": [
      "(260025, 22)\n"
     ]
    }
   ],
   "source": [
    "print(df.shape) "
   ]
  },
  {
   "cell_type": "markdown",
   "metadata": {},
   "source": [
    "This should show you that `df` has 260,025 rows and 22 columns. To print this more nicely we could do something like:"
   ]
  },
  {
   "cell_type": "code",
   "execution_count": 100,
   "metadata": {},
   "outputs": [
    {
     "name": "stdout",
     "output_type": "stream",
     "text": [
      "The data frame is 260,025 rows x 22 columns.\n"
     ]
    }
   ],
   "source": [
    "print(f\"The data frame is {df.shape[0]:,} rows x {df.shape[1]} columns.\")"
   ]
  },
  {
   "cell_type": "markdown",
   "metadata": {},
   "source": [
    "Check you understand what's going on here: recall that tuples are accessed like read-only lists.\n",
    "\n",
    "Notice also that we used `{df.shape[0]:,}` and got comma-separated thousands! This is handy addition to our arsenal of ways to present data in a legible fashion!\n",
    "\n",
    "<div style=\"border: dotted 1px rgb(156,121,26); padding: 10px; margin: 5px; background-color: rgb(255,236,184)\"><i>Note</i> that we use <tt>shape</tt> not <tt>shape()</tt> - this is because `shape` is an attribute of the `DataFrame`, not a pandas method (function). You can compare many of the attributes and methods of pandas `DataFrames` <a href=\"http://pandas.pydata.org/pandas-docs/stable/generated/pandas.DataFrame.html\">here</a>. For some <a href=\"https://stackoverflow.com/a/19483025\">unknown</a> reason, some attributes are not shown in the full documentation. For example, the <tt>columns</tt> <i>attribute</i> is also useful.</div>"
   ]
  },
  {
   "cell_type": "code",
   "execution_count": 102,
   "metadata": {},
   "outputs": [
    {
     "name": "stdout",
     "output_type": "stream",
     "text": [
      "Index(['ID', 'Case Number', 'Date', 'Block', 'IUCR', 'Primary Type',\n",
      "       'Description', 'Location Description', 'Arrest', 'Domestic', 'Beat',\n",
      "       'District', 'Ward', 'Community Area', 'FBI Code', 'X Coordinate',\n",
      "       'Y Coordinate', 'Year', 'Updated On', 'Latitude', 'Longitude',\n",
      "       'Location'],\n",
      "      dtype='object')\n"
     ]
    }
   ],
   "source": [
    "print(df.columns)"
   ]
  },
  {
   "cell_type": "markdown",
   "metadata": {},
   "source": [
    "So that prints out all of the column names that were shown in **bold** up above. But notice that it's an _Index_! That's (to simplify in a useful way) because it isn't a `Series` containing data; so Indexes hold information _about_ rows and columns, while a Series holds _data_."
   ]
  },
  {
   "cell_type": "markdown",
   "metadata": {},
   "source": [
    "It was want to get at the columns names as `list` of `values` (which will be more useful for writing code):"
   ]
  },
  {
   "cell_type": "code",
   "execution_count": 103,
   "metadata": {},
   "outputs": [
    {
     "name": "stdout",
     "output_type": "stream",
     "text": [
      "['ID' 'Case Number' 'Date' 'Block' 'IUCR' 'Primary Type' 'Description'\n",
      " 'Location Description' 'Arrest' 'Domestic' 'Beat' 'District' 'Ward'\n",
      " 'Community Area' 'FBI Code' 'X Coordinate' 'Y Coordinate' 'Year'\n",
      " 'Updated On' 'Latitude' 'Longitude' 'Location']\n"
     ]
    }
   ],
   "source": [
    "print(df.columns.values)"
   ]
  },
  {
   "cell_type": "markdown",
   "metadata": {},
   "source": [
    "Note the subtle difference between the outputs of the last two lines of code (e.g. one starts, `Index`, the other does not; one has only [ ], the other ( ) and [ ]). "
   ]
  },
  {
   "cell_type": "markdown",
   "metadata": {},
   "source": [
    "### Task 5.6: Loading only Part of a Data Frame\n",
    "\n",
    "To speed up data loading or save having to drop columns later, we can actually specify what columns we want to read in as part of the `read_<format>` function:"
   ]
  },
  {
   "cell_type": "code",
   "execution_count": 107,
   "metadata": {},
   "outputs": [
    {
     "name": "stdout",
     "output_type": "stream",
     "text": [
      "Shape of sub-setted data frame is: [260025, 6]\n"
     ]
    },
    {
     "data": {
      "text/html": [
       "<div>\n",
       "<style scoped>\n",
       "    .dataframe tbody tr th:only-of-type {\n",
       "        vertical-align: middle;\n",
       "    }\n",
       "\n",
       "    .dataframe tbody tr th {\n",
       "        vertical-align: top;\n",
       "    }\n",
       "\n",
       "    .dataframe thead th {\n",
       "        text-align: right;\n",
       "    }\n",
       "</style>\n",
       "<table border=\"1\" class=\"dataframe\">\n",
       "  <thead>\n",
       "    <tr style=\"text-align: right;\">\n",
       "      <th></th>\n",
       "      <th>Case Number</th>\n",
       "      <th>Date</th>\n",
       "      <th>Primary Type</th>\n",
       "      <th>Description</th>\n",
       "      <th>X Coordinate</th>\n",
       "      <th>Y Coordinate</th>\n",
       "    </tr>\n",
       "  </thead>\n",
       "  <tbody>\n",
       "    <tr>\n",
       "      <th>0</th>\n",
       "      <td>JD357896</td>\n",
       "      <td>11/13/2019 12:00:00 PM</td>\n",
       "      <td>OTHER OFFENSE</td>\n",
       "      <td>OTHER CRIME INVOLVING PROPERTY</td>\n",
       "      <td>NaN</td>\n",
       "      <td>NaN</td>\n",
       "    </tr>\n",
       "    <tr>\n",
       "      <th>1</th>\n",
       "      <td>JD359475</td>\n",
       "      <td>06/21/2019 11:58:00 AM</td>\n",
       "      <td>CRIMINAL SEXUAL ASSAULT</td>\n",
       "      <td>NON-AGGRAVATED</td>\n",
       "      <td>NaN</td>\n",
       "      <td>NaN</td>\n",
       "    </tr>\n",
       "    <tr>\n",
       "      <th>2</th>\n",
       "      <td>JD357928</td>\n",
       "      <td>10/15/2019 12:00:00 PM</td>\n",
       "      <td>OTHER OFFENSE</td>\n",
       "      <td>OTHER CRIME INVOLVING PROPERTY</td>\n",
       "      <td>NaN</td>\n",
       "      <td>NaN</td>\n",
       "    </tr>\n",
       "    <tr>\n",
       "      <th>3</th>\n",
       "      <td>JD357915</td>\n",
       "      <td>10/15/2019 12:00:00 PM</td>\n",
       "      <td>OTHER OFFENSE</td>\n",
       "      <td>OTHER CRIME INVOLVING PROPERTY</td>\n",
       "      <td>NaN</td>\n",
       "      <td>NaN</td>\n",
       "    </tr>\n",
       "    <tr>\n",
       "      <th>4</th>\n",
       "      <td>JD357903</td>\n",
       "      <td>07/19/2019 12:00:00 PM</td>\n",
       "      <td>OTHER OFFENSE</td>\n",
       "      <td>OTHER CRIME INVOLVING PROPERTY</td>\n",
       "      <td>NaN</td>\n",
       "      <td>NaN</td>\n",
       "    </tr>\n",
       "  </tbody>\n",
       "</table>\n",
       "</div>"
      ],
      "text/plain": [
       "  Case Number                    Date             Primary Type  \\\n",
       "0    JD357896  11/13/2019 12:00:00 PM            OTHER OFFENSE   \n",
       "1    JD359475  06/21/2019 11:58:00 AM  CRIMINAL SEXUAL ASSAULT   \n",
       "2    JD357928  10/15/2019 12:00:00 PM            OTHER OFFENSE   \n",
       "3    JD357915  10/15/2019 12:00:00 PM            OTHER OFFENSE   \n",
       "4    JD357903  07/19/2019 12:00:00 PM            OTHER OFFENSE   \n",
       "\n",
       "                      Description  X Coordinate  Y Coordinate  \n",
       "0  OTHER CRIME INVOLVING PROPERTY           NaN           NaN  \n",
       "1                  NON-AGGRAVATED           NaN           NaN  \n",
       "2  OTHER CRIME INVOLVING PROPERTY           NaN           NaN  \n",
       "3  OTHER CRIME INVOLVING PROPERTY           NaN           NaN  \n",
       "4  OTHER CRIME INVOLVING PROPERTY           NaN           NaN  "
      ]
     },
     "execution_count": 107,
     "metadata": {},
     "output_type": "execute_result"
    }
   ],
   "source": [
    "cols = ['Case Number','Date','Description','Primary Type','X Coordinate','Y Coordinate']\n",
    "sub_df = pd.read_csv(os.path.join(path,fn), usecols=cols)\n",
    "print(f\"Shape of sub-setted data frame is: {list(sub_df.shape)}\")\n",
    "\n",
    "sub_df.head()"
   ]
  },
  {
   "cell_type": "markdown",
   "metadata": {},
   "source": [
    "Notice how we have only loaded the columns listed in the `cols` list? Also note that there are **many** other arguments we could pass to `read_csv`, as shown [in the documentation](http://pandas.pydata.org/pandas-docs/stable/generated/pandas.read_csv.html#pandas.read_csv). "
   ]
  },
  {
   "cell_type": "markdown",
   "metadata": {},
   "source": [
    "We can also read in only a subset of the rows, which can be useful when working with Really Big datasets. For example, we might find it faster and easier to work with a subset of the data: the crime data is ~40MB but larger data sets like the London [InsideAirBnB data](http://insideairbnb.com/get-the-data.html) come in at nearly 50MB, and the OS' OpenRoads data set is more than 500MB! Reading and writing that amount of data will slow things down quite a bit! Sometimes it's easier to work with only a portion of the data while we are doing our coding and then, once we know that we've written things correctly, we do our analysis on the whole data set. \n",
    "\n",
    "One way to achieve this right at the start is to specify the number of rows (abbreviated to `nrows`) that you want to load in `pandas`. For instance, do we really need to start out with all 260k rows? Or could we work with 'just' 50 to get things started? If we set up our analysis correctly then the answer (up to a point)is that it doesn't matter! We should be able to just run the analysis on the subset of data and then re-run it on the _entire_ data set later (by changing the number of lines we read into memory right at the start of the analysis process or just removing `nrows...` from the `read_csv` method).\n",
    "\n",
    "So to read only 50 rows for specific columns:"
   ]
  },
  {
   "cell_type": "code",
   "execution_count": 109,
   "metadata": {},
   "outputs": [
    {
     "name": "stdout",
     "output_type": "stream",
     "text": [
      "(50, 6)\n"
     ]
    }
   ],
   "source": [
    "sub_df = pd.read_csv(os.path.join(path,fn), usecols=cols, nrows=50)\n",
    "print(sub_df.shape)"
   ]
  },
  {
   "cell_type": "markdown",
   "metadata": {},
   "source": [
    "You'll see a lot more later in term how to more effectively subset and sample data, but this should speed things up quite a bit!"
   ]
  },
  {
   "cell_type": "code",
   "execution_count": 110,
   "metadata": {},
   "outputs": [],
   "source": [
    "del(sub_df)"
   ]
  }
 ],
 "metadata": {
  "kernelspec": {
   "display_name": "Python 3",
   "language": "python",
   "name": "python3"
  },
  "language_info": {
   "codemirror_mode": {
    "name": "ipython",
    "version": 3
   },
   "file_extension": ".py",
   "mimetype": "text/x-python",
   "name": "python",
   "nbconvert_exporter": "python",
   "pygments_lexer": "ipython3",
   "version": "3.7.3"
  }
 },
 "nbformat": 4,
 "nbformat_minor": 4
}
