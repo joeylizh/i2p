{
 "cells": [
  {
   "cell_type": "markdown",
   "metadata": {},
   "source": [
    "<div style=\"float:left\">\n",
    "            <h1 style=\"width:450px\">CASA0007 Practical 1: Getting Started</h1>\n",
    "            <h2 style=\"width:450px\">Getting to grips with various tools</h2>\n",
    "</div>\n",
    "<div style=\"float:right\"><img width=\"100\" src=\"https://github.com/jreades/i2p/raw/master/img/casa_logo.jpg\" /></div>"
   ]
  },
  {
   "cell_type": "markdown",
   "metadata": {},
   "source": [
    "## Welcome!\n",
    "\n",
    "In this practical, you will achieve the following objectives:\n",
    "1. Review one of the projects on Moodle and give your mark and comments;\n",
    "1. Install the Python computing environments (Docker or Anaconda) and relevant tools;\n",
    "1. Install Mendeley and understand Harvard referencing style.\n",
    "\n",
    "Don't worry if Objective 2 and 3 are too much for this tutorial. Take your time to practice with these tools in the first few weeks and in different modules.\n",
    "\n",
    "**Practice makes perfect.**"
   ]
  },
  {
   "cell_type": "markdown",
   "metadata": {},
   "source": [
    "## Part 1: Reviewing projects (Objective 1)\n",
    "\n",
    "Understanding the mark scheme and reviewing previous projects will help you work well on the assessments and pass this module. To achieve this, we release several projects from previous years and ask you to *mark* these projects.\n",
    "\n",
    "Please choose one or more projects from [this folder](https://moodle.ucl.ac.uk/mod/folder/view.php?id=1411183) (Moodle login required), and give your mark/comments for the chosen projects, under the criteria of ‘Context and Review’ and ‘Communication’. You may want to read the mark scheme before giving your mark/comments. \n",
    "\n",
    "Please keep your marks/comments. We will discuss the marks/comments in Lecture 2 and ask some students to share their marks/comments."
   ]
  },
  {
   "cell_type": "markdown",
   "metadata": {},
   "source": [
    "## Part 2: Installing tools (Objective 2)\n",
    "\n",
    "At CASA, we intend to share the **SDS** computing infrastructure across different modules. So, for this part, please follow the guidance on [Practical 1 of CASA0013](https://github.com/jreades/fsds/blob/master/practicals/Practical-01-Getting_Started.ipynb).\n",
    "\n",
    "You can skip this part if you have finished the Practical 1 of CASA0013.\n",
    "\n",
    "When you finish this part, you should be able to use the following tools:\n",
    "\n",
    "1. Python computing environment (Docker or Anaconda)\n",
    "1. Command line tool (bash or WSL 2)\n",
    "1. Git and Github\n",
    "1. Markdown\n",
    "1. Jupyter"
   ]
  },
  {
   "cell_type": "markdown",
   "metadata": {},
   "source": [
    "## Part 3: Mendeley and Harvard referencing style (Objective 3)"
   ]
  },
  {
   "cell_type": "markdown",
   "metadata": {},
   "source": [
    "Proper citation and referencing is very important for excellent academic writing.\n",
    "\n",
    "In this module, we recommend using [**Mendeley Reference Manager**](https://www.mendeley.com/download-reference-manager/) to manage references, add citations and bibliograpy. If you don't like Mendeley, you could use alternatives like [Zetero](https://www.zotero.org/) or [Endnote](https://endnote.com/). \n",
    "\n",
    "Note that Mendeley is free but not open source; Zetero is free and open-source; Endnote is neither free nor open source.\n",
    "\n",
    "Here is the official guide to Mendeley:\n",
    "\n",
    "* [Official guide to Mendeley](https://www.mendeley.com/guides/)\n",
    "\n",
    "While there are many referencing styles (e.g. Harvard, APA), we recommended using **Harvard referencing style** in this module. \n",
    "\n",
    "If you don't know Harvard style, you will find this link useful:\n",
    "\n",
    "* [Guide to the Harvard System of Referencing (6th edition) at ARU library](https://library.aru.ac.uk/referencing/harvard.htm)\n",
    "\n",
    "If you use Mendeley, the way to install the template of Harvard referencing style is *View* -> *Citation Style* -> *Get More Styles* -> Search for '*UCL Institute of Education - Harvard*' -> Click '*Install*'.\n",
    "\n",
    "By the end of this part, you should be able to use Mendeley (or alternatives) to manage your literature and citations and to add citations/biliography to a MS word document."
   ]
  }
 ],
 "metadata": {
  "kernelspec": {
   "display_name": "Python 3 (ipykernel)",
   "language": "python",
   "name": "python3"
  },
  "language_info": {
   "codemirror_mode": {
    "name": "ipython",
    "version": 3
   },
   "file_extension": ".py",
   "mimetype": "text/x-python",
   "name": "python",
   "nbconvert_exporter": "python",
   "pygments_lexer": "ipython3",
   "version": "3.9.6"
  }
 },
 "nbformat": 4,
 "nbformat_minor": 4
}
