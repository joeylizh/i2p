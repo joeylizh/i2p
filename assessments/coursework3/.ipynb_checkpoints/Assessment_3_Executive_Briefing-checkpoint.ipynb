{
 "cells": [
  {
   "cell_type": "markdown",
   "metadata": {},
   "source": [
    "# Front Matter: CASA0013: Foundations of Spatial Data Science\n",
    "\n",
    "## Title of Briefing\n",
    "\n",
    "### Student ID\n",
    "\n",
    "### Word Count:"
   ]
  },
  {
   "cell_type": "markdown",
   "metadata": {},
   "source": [
    "# Reproducible Analysis\n",
    "\n",
    "Please feel free to add as many code cells and markdown cells of comment/explanation as needed to make your code legible and clear. Your code should output any figures needed to disk."
   ]
  },
  {
   "cell_type": "code",
   "execution_count": null,
   "metadata": {},
   "outputs": [],
   "source": []
  },
  {
   "cell_type": "markdown",
   "metadata": {},
   "source": [
    "# Executive Briefing\n",
    "\n",
    "This should be composed of markdown cells _only_. You may have more than one markdown cell so as to support a useful Table of Contents. Images should be included by reference using the standard Markdown format `![Alt text here](local/image/created_in_code.png)`. \n",
    "<br>\n",
    "Add each section of your briefing to the corresponding cell below. \n",
    "<br>\n",
    "_Additional guidence on the structure can be found on Moodle_\n"
   ]
  },
  {
   "cell_type": "markdown",
   "metadata": {},
   "source": [
    "## Executive summary\n"
   ]
  },
  {
   "cell_type": "markdown",
   "metadata": {},
   "source": [
    "## Background"
   ]
  },
  {
   "cell_type": "markdown",
   "metadata": {},
   "source": [
    "## Data Analysis"
   ]
  },
  {
   "cell_type": "markdown",
   "metadata": {},
   "source": [
    "## Conclusion"
   ]
  },
  {
   "cell_type": "markdown",
   "metadata": {},
   "source": [
    "# Bibliography\n",
    "\n",
    "This should be a list in markdown of any documents referenced in the _Executive Briefing_. Please also link to the document using the standard Markdown format `[Link text](https://link.website.org/)`. If the document is an academic article or other piece requiring authentication please link to a DOI.\n"
   ]
  }
 ],
 "metadata": {
  "kernelspec": {
   "display_name": "Python 3",
   "language": "python",
   "name": "python3"
  },
  "language_info": {
   "codemirror_mode": {
    "name": "ipython",
    "version": 3
   },
   "file_extension": ".py",
   "mimetype": "text/x-python",
   "name": "python",
   "nbconvert_exporter": "python",
   "pygments_lexer": "ipython3",
   "version": "3.7.8"
  }
 },
 "nbformat": 4,
 "nbformat_minor": 4
}
