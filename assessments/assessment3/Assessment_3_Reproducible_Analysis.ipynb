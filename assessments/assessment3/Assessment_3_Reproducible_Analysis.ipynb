{
 "cells": [
  {
   "cell_type": "markdown",
   "id": "27e4641f-eb24-400e-906a-47c8caffb656",
   "metadata": {},
   "source": [
    "# Front Matter: CASA0013: Foundations of Spatial Data Science\n",
    "\n",
    "## Title of Briefing\n",
    "\n",
    "### Student ID: 21047001\n"
   ]
  },
  {
   "cell_type": "markdown",
   "id": "7a604d13-ef50-467e-b1e9-69e35a26f502",
   "metadata": {},
   "source": [
    "# Reproducible Analysis\n",
    "\n",
    "Please feel free to add as many code cells and markdown cells of comment/explanation as needed to make your code legible and clear. Your code should output any figures needed to disk."
   ]
  },
  {
   "cell_type": "code",
   "execution_count": null,
   "id": "dc063f16-f3bf-48ac-a566-bb890392e17b",
   "metadata": {},
   "outputs": [],
   "source": []
  },
  {
   "cell_type": "code",
   "execution_count": null,
   "id": "1dbd74fd-6eb7-4207-b348-430aaf51379b",
   "metadata": {},
   "outputs": [],
   "source": []
  },
  {
   "cell_type": "code",
   "execution_count": null,
   "id": "1d1b17c0-12e1-4334-8e1e-f19d4f1c3ae6",
   "metadata": {},
   "outputs": [],
   "source": []
  },
  {
   "cell_type": "code",
   "execution_count": null,
   "id": "cbe17987-c0c9-44fe-8e24-46d67ed0c638",
   "metadata": {},
   "outputs": [],
   "source": []
  },
  {
   "cell_type": "code",
   "execution_count": null,
   "id": "4cb65a04-1d8f-466d-8fe6-80bbb8b1d8db",
   "metadata": {},
   "outputs": [],
   "source": []
  },
  {
   "cell_type": "code",
   "execution_count": null,
   "id": "5250061c-541c-45b8-88b1-7500e319b3fa",
   "metadata": {},
   "outputs": [],
   "source": []
  },
  {
   "cell_type": "code",
   "execution_count": null,
   "id": "fad89c4b-05d2-49e2-a3c1-a7572fedc128",
   "metadata": {},
   "outputs": [],
   "source": []
  },
  {
   "cell_type": "code",
   "execution_count": null,
   "id": "07efec3e-7e9a-451c-b174-0dc1456d0c74",
   "metadata": {},
   "outputs": [],
   "source": []
  },
  {
   "cell_type": "code",
   "execution_count": null,
   "id": "1771ee6b-13c5-4480-b9e8-0060a424ac78",
   "metadata": {},
   "outputs": [],
   "source": []
  },
  {
   "cell_type": "code",
   "execution_count": null,
   "id": "348c2bc2-05e1-40cd-935f-c6e22ff652b2",
   "metadata": {},
   "outputs": [],
   "source": []
  },
  {
   "cell_type": "code",
   "execution_count": null,
   "id": "30145b9f-4e56-4ab6-a969-d92a3b75955e",
   "metadata": {},
   "outputs": [],
   "source": []
  },
  {
   "cell_type": "code",
   "execution_count": null,
   "id": "49101df1-fe5d-40ed-b03c-ca0fa4f1cade",
   "metadata": {},
   "outputs": [],
   "source": []
  },
  {
   "cell_type": "code",
   "execution_count": null,
   "id": "0a9b8bf0-5cac-4887-ad3d-b3559c0ffb8a",
   "metadata": {},
   "outputs": [],
   "source": []
  },
  {
   "cell_type": "code",
   "execution_count": null,
   "id": "7ce44d6a-6efc-426b-adb8-0c2dc3c2b188",
   "metadata": {},
   "outputs": [],
   "source": []
  },
  {
   "cell_type": "code",
   "execution_count": null,
   "id": "5684a8ca-866c-4653-9a7b-74be31add7a8",
   "metadata": {},
   "outputs": [],
   "source": []
  },
  {
   "cell_type": "code",
   "execution_count": null,
   "id": "f49e207a-635d-4cd0-8ddb-81955e296cd3",
   "metadata": {},
   "outputs": [],
   "source": []
  },
  {
   "cell_type": "code",
   "execution_count": null,
   "id": "29ab9c5b-7841-4492-aa72-51609f77098c",
   "metadata": {},
   "outputs": [],
   "source": []
  },
  {
   "cell_type": "code",
   "execution_count": null,
   "id": "30147ae9-ee13-4a88-8d2c-af068c1b0de9",
   "metadata": {},
   "outputs": [],
   "source": []
  }
 ],
 "metadata": {
  "kernelspec": {
   "display_name": "Python 3 (ipykernel)",
   "language": "python",
   "name": "python3"
  },
  "language_info": {
   "codemirror_mode": {
    "name": "ipython",
    "version": 3
   },
   "file_extension": ".py",
   "mimetype": "text/x-python",
   "name": "python",
   "nbconvert_exporter": "python",
   "pygments_lexer": "ipython3",
   "version": "3.9.6"
  }
 },
 "nbformat": 4,
 "nbformat_minor": 5
}
